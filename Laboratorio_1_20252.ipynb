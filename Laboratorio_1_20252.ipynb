{
 "cells": [
  {
   "cell_type": "markdown",
   "metadata": {
    "id": "yi34l9LYTUxx"
   },
   "source": [
    "# **Laboratorio 1: Una introducción a NumPy**\n",
    "\n",
    "**Facultad de ingeniería**\n",
    "\n",
    "Departamento de Ingeniería Biomédica\n",
    "\n",
    "Universidad de los Andes\n",
    "\n",
    "**IBIO-2340:** Fundamentos de Machine Learning"
   ]
  },
  {
   "cell_type": "markdown",
   "metadata": {
    "id": "q6l8Azb1Tdbo"
   },
   "source": [
    "**Nombres de los integrantes**\n",
    "\n",
    "\n",
    "1. Juanfelipe Lozano\n",
    "2. Angélica Ortiz\n",
    "3. María José Amorocho\n",
    "\n",
    "**Número del grupo**\n",
    "\n",
    "7\n"
   ]
  },
  {
   "cell_type": "markdown",
   "metadata": {
    "id": "qleaiXKOui8U"
   },
   "source": [
    "# **1. Funciones en Python**\n",
    "\n",
    "Para cada uno de los siguientes problemas, implemente una función que los resuelva. No puede utilizar ninguna librería externa de Python como NumPy o Scipy con métodos preestablecidos para resolverlos. Ponga a prueba cada función con el ejemplo que se proporciona."
   ]
  },
  {
   "cell_type": "markdown",
   "metadata": {
    "id": "c95ohWaEvJAl"
   },
   "source": [
    "**1.1.** Escriba una función que reciba como argumento una lista con números y retorne la suma de todos los números dentro de la misma."
   ]
  },
  {
   "cell_type": "code",
   "execution_count": 1,
   "metadata": {
    "id": "-gzq2VnEva0g"
   },
   "outputs": [],
   "source": [
    "\n",
    "# Complete la siguiente implementación\n",
    "def sum_array(array):\n",
    "    result = 0\n",
    "    for element in array:\n",
    "        result += element\n",
    "    return result"
   ]
  },
  {
   "cell_type": "code",
   "execution_count": 2,
   "metadata": {},
   "outputs": [
    {
     "data": {
      "text/plain": [
       "15"
      ]
     },
     "execution_count": 2,
     "metadata": {},
     "output_type": "execute_result"
    }
   ],
   "source": [
    "# Ejemplo de prueba Ejercicio 1.1\n",
    "a = [1,2,3,4,5]\n",
    "sum_array(a)\n"
   ]
  },
  {
   "cell_type": "markdown",
   "metadata": {
    "id": "ZtIyBUkwvclE"
   },
   "source": [
    "**1.2.** Escriba una función que reciba como argumento un numero entero positivo y retorne el factorial del mismo.\n",
    "\n",
    "**Nota:** Recuerde la definición del factorial de un número entero:\n",
    "\n",
    "\\begin{align}\n",
    "        n! = n * (n-1) * (n-2) * (n-3) * ... *(1)\n",
    "\\end{align}\n",
    "\n",
    "Y que, por definición, $0! = 1$."
   ]
  },
  {
   "cell_type": "code",
   "execution_count": 3,
   "metadata": {
    "id": "3BUh5cUVvclF"
   },
   "outputs": [],
   "source": [
    "# Complete la siguiente implementación\n",
    "def factorial_custom(n:int):\n",
    "    result=1\n",
    "    while n>0:\n",
    "        result=result*n\n",
    "        n-=1\n",
    "    return result"
   ]
  },
  {
   "cell_type": "code",
   "execution_count": 4,
   "metadata": {},
   "outputs": [
    {
     "data": {
      "text/plain": [
       "40320"
      ]
     },
     "execution_count": 4,
     "metadata": {},
     "output_type": "execute_result"
    }
   ],
   "source": [
    "# Ejemplo de prueba Ejercicio 1.2\n",
    "factorial_custom(8)"
   ]
  },
  {
   "cell_type": "markdown",
   "metadata": {
    "id": "3CHXMEjUyLXp"
   },
   "source": [
    "**1.3.** Escriba una función que reciba como argumento una lista con números y retorne el promedio ponderado de los números dentro de la misma. Asuma que cada elemento tiene como peso su índice dentro de la lista, en este sentido el primer elemento tiene peso 0."
   ]
  },
  {
   "cell_type": "code",
   "execution_count": 5,
   "metadata": {
    "id": "o4sf1VP3yLXw"
   },
   "outputs": [],
   "source": [
    "# Complete la siguiente implementación\n",
    "def weight_mean(list:list):\n",
    "    result=0\n",
    "    den=0\n",
    "    for i in range(len(list)):\n",
    "        result+=list[i]*i\n",
    "        den+=i\n",
    "    return result/den"
   ]
  },
  {
   "cell_type": "code",
   "execution_count": 6,
   "metadata": {},
   "outputs": [
    {
     "data": {
      "text/plain": [
       "26.0"
      ]
     },
     "execution_count": 6,
     "metadata": {},
     "output_type": "execute_result"
    }
   ],
   "source": [
    "# Ejemplo de prueba Ejercicio 1.3\n",
    "b = [1,2,3,4,60]\n",
    "weight_mean(b)"
   ]
  },
  {
   "cell_type": "markdown",
   "metadata": {
    "id": "Eo7qhSx_UhgX"
   },
   "source": [
    "# **2. ¿Qué es NumPy?**\n",
    "\n",
    "NumPy es una de las librerías más utilizadas en Python, permite operar matemáticamente grandes cantidades de datos almacenados en estructuras conocidas como *ndarrays*. Numpy es una librería inmensa que contiene diversos módulos orientados a campos específicos dentro de todos ellos nos interesan particularmente *np.linalg*  y *np.random*. \n",
    "\n",
    "El módulo *np.linalg* implementa distintas operaciones dentro del campo del álgebra lineal, que abarcan desde la artimética matricial básica, el cálculo de determinantes, inversas, autovalores y autovectores hasta complejas transformaciones para el procesamiento de señales.\n",
    "\n",
    "Por su parte, el módulo *np.random* contiene implementaciones enfocadas en el análisis estadístico de datos. Permite calcular desde los estadísticos de orden hasta la generación de números aleatorios de acuerdo a diferentes distribuciones de probabilidad.\n",
    "\n",
    "Por todo lo anterior, así como por su facilidad de implementación, es una librería de uso muy común en programación científica y un componente fundamental en el desarrollo de proyectos en Machine Learning. A continuación veremos con detalle algunas de sus funciones más importantes que nos serán de utilidad durante el desarrollo del curso."
   ]
  },
  {
   "cell_type": "markdown",
   "metadata": {
    "id": "ELyXfeq31xr0"
   },
   "source": [
    "**Operaciones Básicas con Arreglos**\n",
    "\n",
    "Numpy posee varias funciones que son de utilidad operando arreglos. A continuación se detallan algunas:\n",
    "\n",
    "- **np.sum:** Retorna la suma de todos los números contenidos en un arreglo.\n",
    "\n",
    "- **np.prod:** Retorna la multiplicación de todos los números contenidos en un arreglo.\n",
    "\n",
    "- **np.mean:** Retorna el promedio aritmético de todos los números contenidos en un arreglo.\n",
    "\n",
    "- **np.average:** Retorna el promedio ponderado de todos los números contenidos en un arreglo.\n",
    "\n",
    "- **np.std:** Retorna la desviación estandar de todos los números contenidos en un arreglo.\n",
    "\n",
    "\n",
    "Así mismo Numpy implementa diferentes funciones matemáticas básicas que se aplican sobre arreglos (ver https://numpy.org/doc/stable/reference/routines.math.html). Dentro de los entornos de programación científica se considera buena práctica utilizar estas implementaciones en lugar de las nativas que se tienen en Python."
   ]
  },
  {
   "cell_type": "markdown",
   "metadata": {},
   "source": [
    "En primer lugar importamos Numpy. Al ser una librería externa es necesario instalarla previamente usando el manejador de paquetes de Python **pip**."
   ]
  },
  {
   "cell_type": "code",
   "execution_count": 7,
   "metadata": {},
   "outputs": [
    {
     "name": "stdout",
     "output_type": "stream",
     "text": [
      "Numpy versión 1.26.4 se encuentra instalada en su sistema.\n"
     ]
    }
   ],
   "source": [
    "try:\n",
    "  import numpy as np\n",
    "  print(f\"Numpy versión {np.__version__} se encuentra instalada en su sistema.\")\n",
    "except ImportError:\n",
    "  print(\"Numpy no fue encontrado en su sistema. Verifique su instalación.\")"
   ]
  },
  {
   "cell_type": "markdown",
   "metadata": {},
   "source": [
    "**2.1.** A continuación, repita los puntos 1.1, 1.2 y 1.3 pero utilice las funciones y arreglos de Numpy para sus implementaciones. Recuerde revisar la documentación de la librería como ayuda."
   ]
  },
  {
   "cell_type": "code",
   "execution_count": 8,
   "metadata": {
    "id": "DaP9-gqMskfZ"
   },
   "outputs": [],
   "source": [
    "#Repetición punto 1.1\n",
    "def sum_array_numpy(array):\n",
    "    result=np.sum(array)\n",
    "    return result"
   ]
  },
  {
   "cell_type": "code",
   "execution_count": 9,
   "metadata": {},
   "outputs": [
    {
     "name": "stdout",
     "output_type": "stream",
     "text": [
      "15\n"
     ]
    }
   ],
   "source": [
    "# Ejemplo de prueba Ejercicio 2.1\n",
    "a = [1,2,3,4,5]\n",
    "sum_1 = sum_array_numpy(a)\n",
    "print(sum_1)"
   ]
  },
  {
   "cell_type": "code",
   "execution_count": 10,
   "metadata": {
    "id": "ZqHQlV-_2ReS"
   },
   "outputs": [],
   "source": [
    "#Repetición punto 1.2\n",
    "def factorial_custom_numpy(n:int):\n",
    "    numbers=np.arange(1,n+1)\n",
    "    return np.prod(numbers)"
   ]
  },
  {
   "cell_type": "code",
   "execution_count": 11,
   "metadata": {},
   "outputs": [
    {
     "name": "stdout",
     "output_type": "stream",
     "text": [
      "40320\n"
     ]
    }
   ],
   "source": [
    "# Ejemplo de prueba Ejercicio 2.1\n",
    "prod_1 =  factorial_custom_numpy(8)\n",
    "print(prod_1)"
   ]
  },
  {
   "cell_type": "code",
   "execution_count": 12,
   "metadata": {
    "id": "T0PqOF972Rk9"
   },
   "outputs": [],
   "source": [
    "#Repetición punto 1.3\n",
    "def weight_mean_numpy(list:list):\n",
    "    numbers=np.array(list)\n",
    "    weights=np.arange(len(list))\n",
    "    result=np.average(numbers,weights=weights)\n",
    "    return result"
   ]
  },
  {
   "cell_type": "code",
   "execution_count": 13,
   "metadata": {},
   "outputs": [
    {
     "name": "stdout",
     "output_type": "stream",
     "text": [
      "26.0\n"
     ]
    }
   ],
   "source": [
    "# Ejemplo de prueba Ejercicio 2.1\n",
    "b = [1,2,3,4,60]\n",
    "mean_1 = weight_mean_numpy(b)\n",
    "print(mean_1)"
   ]
  },
  {
   "cell_type": "markdown",
   "metadata": {
    "id": "DqW0_XQc2ZoN"
   },
   "source": [
    "# **3. Arrays en Numpy**\n",
    "\n",
    "Los objetos fundamentales de Numpy son los *ndarrays* o simplemente **numpy arrays**, una estructura de datos similar a la lista tradicional de Python pero que ofrece mayor eficiencia en el almacenamiento y acceso a los datos y brinda una mayor versatilidad al realizar operaciones matemáticas. Los arrays son útiles para representar información como vectores y matrices."
   ]
  },
  {
   "cell_type": "markdown",
   "metadata": {},
   "source": [
    "Para iniciar un vector con los números de 1 a 5 se utiliza la instrucción 'np.array()' de la siguiente manera:"
   ]
  },
  {
   "cell_type": "code",
   "execution_count": 14,
   "metadata": {
    "colab": {
     "base_uri": "https://localhost:8080/"
    },
    "id": "Pd7VkpdO4BBN",
    "outputId": "c70cb29e-d564-4a78-b91b-97aa5e330f8d"
   },
   "outputs": [
    {
     "name": "stdout",
     "output_type": "stream",
     "text": [
      "[1 2 3 4 5]\n"
     ]
    }
   ],
   "source": [
    "vector = np.array([1,2,3,4,5])\n",
    "print(vector)"
   ]
  },
  {
   "cell_type": "markdown",
   "metadata": {
    "id": "FTtxpWIb4Mwn"
   },
   "source": [
    "De forma similar, una matriz puede ser iniciada como un arreglo de arreglos. Por ejemplo, para iniciar una matriz 2x2 que contenga los números de 1 a 4 se debe realizar lo siguiente:"
   ]
  },
  {
   "cell_type": "code",
   "execution_count": 15,
   "metadata": {
    "colab": {
     "base_uri": "https://localhost:8080/"
    },
    "id": "fhJbywwu4zmb",
    "outputId": "46e10bf1-49b0-49ce-e6b7-2c55d2e9e11d"
   },
   "outputs": [
    {
     "name": "stdout",
     "output_type": "stream",
     "text": [
      "[[1 2]\n",
      " [3 4]]\n"
     ]
    }
   ],
   "source": [
    "matriz = np.array([[1,2],[3,4]])\n",
    "print(matriz)"
   ]
  },
  {
   "cell_type": "markdown",
   "metadata": {
    "id": "p8Qc17wy62TW"
   },
   "source": [
    "Los ndarrays incluyen diferentes atributos que proporcionan información sobre el arreglo y permiten algunas operaciones básicas. Entre los más utilizados tenemos:\n",
    "\n",
    "- **array.ndim:** Retorna la dimensión de un arreglo, entendida como el número de grados de libertad; 0 en el caso de un escalar, 1 en el caso de un vector, 2 en el caso de una matriz, ...\n",
    "\n",
    "- **array.shape:** Retorna el tamaño de un arreglo, entendido como el número de elementos (si es un vector), filas y columnas (si es una matriz), ...\n",
    "\n",
    "- **array.size:** Retorna el número total de elementos que contiene un arreglo.\n",
    "\n",
    "- **array.T:** Retorna el arreglo transpuesto."
   ]
  },
  {
   "cell_type": "markdown",
   "metadata": {},
   "source": [
    "Algunos ejemplos de estos atributos se ven a continuación:"
   ]
  },
  {
   "cell_type": "code",
   "execution_count": 16,
   "metadata": {
    "colab": {
     "base_uri": "https://localhost:8080/"
    },
    "id": "-Jao_7ya61rh",
    "outputId": "07c2c3b8-2522-4104-b255-c2e9b83c02e0"
   },
   "outputs": [
    {
     "name": "stdout",
     "output_type": "stream",
     "text": [
      "Dimensión del arreglo: 2\n",
      "Tamaño del arreglo (2, 2)\n",
      "Numero de elementos en el arreglo: 4\n",
      "Matriz transpuesta:\n",
      " [[1 3]\n",
      " [2 4]]\n"
     ]
    }
   ],
   "source": [
    "print(\"Dimensión del arreglo:\", matriz.ndim)\n",
    "print(\"Tamaño del arreglo\", matriz.shape)\n",
    "print(\"Numero de elementos en el arreglo:\", matriz.size)\n",
    "print(\"Matriz transpuesta:\\n\", matriz.T)"
   ]
  },
  {
   "cell_type": "markdown",
   "metadata": {
    "id": "Nlx8f5MAApeF"
   },
   "source": [
    "**3.1. Indexación de arreglos de Numpy**\n",
    "\n",
    "\n",
    "La indexación es una operación que permite obtener el elemento de una determinada posición dentro de un arreglo. Se utilizan los paréntesis cuadrados ([]) para indicar la posición de la que se quiere extraer el valor. En NumPy la indexación de los ndarrays es similar a la realizada sobre listas de Python.\n",
    "\n",
    "Cuando se tiene un vector, cualquier posición puede ser obtenida simplemente indicando el nombre del vector y la posición deseada. La posición en el arreglo de cualquier elemento se especifica atraves de su índice, un número entero que va desde 0 hasta el número de elementos del arreglo. Tanto en Numpy como en Python, **el primer elemento tiene como índice a cero.** Por ejemplo, para obtener el tercer elemento del arreglo, pasamos su índice (2):"
   ]
  },
  {
   "cell_type": "code",
   "execution_count": 17,
   "metadata": {
    "colab": {
     "base_uri": "https://localhost:8080/"
    },
    "id": "lwApTmRsBg69",
    "outputId": "e233dc2a-a803-4745-c439-8def85d6b40d"
   },
   "outputs": [
    {
     "name": "stdout",
     "output_type": "stream",
     "text": [
      "3\n"
     ]
    }
   ],
   "source": [
    "vector = np.array([1,2,3,4,5])\n",
    "print(vector[2])"
   ]
  },
  {
   "cell_type": "markdown",
   "metadata": {
    "id": "LSJpGZNhBnWh"
   },
   "source": [
    "Por otra parte, el acceso a los elementos de una matriz se realiza con una doble indexación: [número de fila, número de columna]. **Se debe tener en cuenta que al igual que los arreglos unidimensionales, la indexación inicia en cero !!**. La primera fila de la matriz tiene índice cero, así como la primera columna. Por ejemplo, para obtener el elemento que se encuentra en la primera fila y la segunda columna escribimos:"
   ]
  },
  {
   "cell_type": "code",
   "execution_count": 18,
   "metadata": {
    "colab": {
     "base_uri": "https://localhost:8080/"
    },
    "id": "i9Pnm8fPBnDT",
    "outputId": "8bc4bbec-80e0-47a6-a7c0-daa33f68faea"
   },
   "outputs": [
    {
     "name": "stdout",
     "output_type": "stream",
     "text": [
      "2\n",
      "2\n"
     ]
    }
   ],
   "source": [
    "matriz = np.array([[1,2],[3,4]])\n",
    "print(matriz[0,1])\n",
    "# Otra notación equivalente es:\n",
    "print(matriz[0][1])"
   ]
  },
  {
   "cell_type": "markdown",
   "metadata": {
    "id": "Wzmu4MXVAx7Q"
   },
   "source": [
    "**3.2. Slicing en arreglos de Numpy**\n",
    "\n",
    "Se conoce como *Slicing* a la operación que permite recuperar elementos específicos contenidos en un arreglo y agruparlos bajo un nuevo arreglo. Tal como en la indexación hacemos uso de paréntesis cuadrados ([]) indicando el índice del elemento inicial a recuperar seguido del operador ($:$) para finalizar con el índice del elemento final (el cual no se incluye). Por ejemplo para arreglos unidimensionales:\n",
    "\n",
    "```\n",
    "vector[:]  #Devuelve el vector completo. Incluyendo todos sus elementos.\n",
    "vector[2:5] #Devuelve los elementos desde el segundo índice hasta el cuarto índice (es decir, desde la tercera posición hasta la quinta posición).\n",
    "vector[:5] #Devuelve los elementos desde el primer índice hasta el cuarto índice (es decir, hasta la quinta posición).\n",
    "vector[2:] #Devuelve los elementos a partir del segundo índice hasta el final del arreglo (es decir, desde la tercera posición).\n",
    "```\n",
    "Si se requiere, se puede agregar luego del índice del elemento final nuevamente el operador ($:$) para indicar el paso con el que se deben recorrer los índices. Por ejemplo:\n",
    "\n",
    "```\n",
    "vector[::2] #Devuelve los elementos desde el inicio del arreglo hasta el final, saltando el índice en pasos de 2.\n",
    "vector[2:5:2] #Devuelve los elementos desde el segundo índice hasta el cuarto índice saltando el índice en pasos de 2.\n",
    "```\n",
    "\n",
    "Para arreglos bidimensionales (matrices) mantenemos la sintaxis anterior para indicar las secciones que se quieren recuperar tanto de filas como de columnas. Por ejemplo:\n",
    "\n",
    "```\n",
    "matriz[:,:]  #Devuelve la matriz completa. Incluyendo todos los elementos tanto de filas como de columnas\n",
    "matriz[2:5,:] #Devuelve los elementos desde el tercera fila (índice 2) hasta la quinta fila (índice 4), incluyendo todas las columnas. \n",
    "matriz[:,:5] #Devuelve los elementos para todas las filas desde la primera columna hasta la quinta columna (índice 4).\n",
    "matriz[2:,:] #Devuelve los elementos a partir de la tercera fila (índice 2) incluyendo todas las columnas.\n",
    "matriz[::2,::3] #Devuelve las filas de la primera a la última con pasos de 2 posiciones y de la primera a la última columna con pasos de 3 posiciones.\n",
    "```\n"
   ]
  },
  {
   "cell_type": "markdown",
   "metadata": {
    "id": "nCeG5Bc9Ko1Z"
   },
   "source": [
    "**3.2. Ejercicios**\n",
    "\n",
    "1. Escriba una función que reciba como argumento una matriz de NXN y retorne todos los elementos de la diagonal principal en un array de NumPy."
   ]
  },
  {
   "cell_type": "code",
   "execution_count": 19,
   "metadata": {
    "id": "jyxXuB4OD-47"
   },
   "outputs": [],
   "source": [
    "# Complete la implementación\n",
    "def diagonal_elements(matriz):\n",
    "    return np.diag(matriz)"
   ]
  },
  {
   "cell_type": "code",
   "execution_count": 20,
   "metadata": {},
   "outputs": [
    {
     "data": {
      "text/plain": [
       "array([1, 2, 3])"
      ]
     },
     "execution_count": 20,
     "metadata": {},
     "output_type": "execute_result"
    }
   ],
   "source": [
    "# Ejemplo de prueba Ejercicio 3.2\n",
    "matrix_example = np.array([\n",
    "    [1,3,4],\n",
    "    [0,2,5],\n",
    "    [7,8,3]\n",
    "])\n",
    "diagonal_elements(matrix_example)"
   ]
  },
  {
   "cell_type": "markdown",
   "metadata": {
    "id": "RkNJa40-LCu3"
   },
   "source": [
    "2. Escriba una función que reciba como argumentos una matriz de NxN y un número de fila y retorne la multiplicación de todos los elementos de dicha fila."
   ]
  },
  {
   "cell_type": "code",
   "execution_count": 21,
   "metadata": {
    "id": "WV5u9IbULNSu"
   },
   "outputs": [],
   "source": [
    "# Complete la implementación\n",
    "def row_product(matriz, num):\n",
    "    #resto 1 al número de columna porque supongo que los indices van de 1 a N\n",
    "    num -= 1\n",
    "    array= matriz[num]\n",
    "    return np.prod(array)\n",
    "    "
   ]
  },
  {
   "cell_type": "code",
   "execution_count": 22,
   "metadata": {},
   "outputs": [
    {
     "name": "stdout",
     "output_type": "stream",
     "text": [
      "168\n"
     ]
    }
   ],
   "source": [
    "# Ejemplo de prueba Ejercicio 3.2\n",
    "matrix_example = np.array([\n",
    "    [1,3,4],\n",
    "    [0,2,5],\n",
    "    [7,8,3]\n",
    "])\n",
    "print(row_product(matrix_example,3))"
   ]
  },
  {
   "cell_type": "markdown",
   "metadata": {
    "id": "JhhPIHRoLO6N"
   },
   "source": [
    "3. Escriba una función que reciba como argumentos una matriz de NxN y un número de columna y retorne la suma de todos los elementos de dicha columna."
   ]
  },
  {
   "cell_type": "code",
   "execution_count": 23,
   "metadata": {
    "id": "qbDZpsYjLqwu"
   },
   "outputs": [],
   "source": [
    "\n",
    "# Complete la implementación\n",
    "def column_sum(matriz, num_columna):\n",
    "    #resto 1 al número de columna porque supongo que los indices van de 1 a N\n",
    "    num_columna -= 1 \n",
    "    #extrer columna correspondiente\n",
    "    elementos_columna  = matriz[:, num_columna] \n",
    "    #sumar elementos de la columna\n",
    "    suma = np.sum(elementos_columna)\n",
    "    return suma"
   ]
  },
  {
   "cell_type": "code",
   "execution_count": 24,
   "metadata": {},
   "outputs": [
    {
     "name": "stdout",
     "output_type": "stream",
     "text": [
      "8\n"
     ]
    }
   ],
   "source": [
    "# Ejemplo de prueba Ejercicio 3.2\n",
    "matrix_example = np.array([\n",
    "    [1,2,4],\n",
    "    [7,3,1],\n",
    "    [0,8,4]\n",
    "])\n",
    "print(column_sum(matrix_example,1))\n"
   ]
  },
  {
   "cell_type": "markdown",
   "metadata": {
    "id": "BYDBpcYjL9eY"
   },
   "source": [
    "4. Escriba una función que reciba como argumento una matriz y retorne su transpuesta como un arreglo de Numpy."
   ]
  },
  {
   "cell_type": "code",
   "execution_count": 25,
   "metadata": {
    "id": "nRTug2PcLOlW"
   },
   "outputs": [],
   "source": [
    "\n",
    "# Complete la implementación\n",
    "def transpose_matrix(matriz):\n",
    "    #calcular la transpuest con método .T\n",
    "    matriz_transpuesta = matriz.T\n",
    "    return matriz_transpuesta"
   ]
  },
  {
   "cell_type": "code",
   "execution_count": 26,
   "metadata": {},
   "outputs": [
    {
     "name": "stdout",
     "output_type": "stream",
     "text": [
      "[[ 1  0  7  2]\n",
      " [ 3  2  8 78]\n",
      " [ 4  5  3  9]]\n"
     ]
    }
   ],
   "source": [
    "# Ejemplo de prueba Ejercicio 3.2\n",
    "matrix_example = np.array([\n",
    "    [1,3,4],\n",
    "    [0,2,5],\n",
    "    [7,8,3],\n",
    "    [2,78,9]\n",
    "])\n",
    "print(transpose_matrix(matrix_example))"
   ]
  },
  {
   "cell_type": "markdown",
   "metadata": {
    "id": "cNwvzcw9MJpu"
   },
   "source": [
    "**3.3. Tipos especiales de matrices en NumPy**\n",
    "\n",
    "Numpy permite crear matrices especiales utilizando como argumento su tamaño (el método *shape*). Algunas matrices pueden ser:\n",
    "\n",
    "- **Matriz donde todos sus elementos son 0:** Esta matriz puede ser creada utilizando la función *np.zeros()* donde como argumento *shape* se debe indicar el tamaño de la matriz.\n",
    "\n",
    "- **Matriz donde todos sus elementos son 1:** Esta matriz puede ser creada utilizando la función *np.ones()* donde como argumento *shape* se debe indicar el tamaño de la matriz.\n",
    "\n",
    "- **Matriz identidad:** Esta matriz puede ser creada utilizando la función *np.identity* que toma por argumento el número de filas ó de columnas, en cualquier caso genera una matriz cuadrada.\n",
    "\n",
    "**Nota:** Hay que tener en cuenta que si se pasa como argumento un número entero positivo (y no la tupla que describe el tamaño de la matriz) a las funciones *np.ones()* y *np.zeros()*, estas generan un vector tomando dicho entero como el número total de elementos. "
   ]
  },
  {
   "cell_type": "markdown",
   "metadata": {
    "id": "ZSRvJPXiN90U"
   },
   "source": [
    "**3.4. Ejercicios**\n",
    "\n",
    "1. Genere un vector de 15 elementos donde todos sus elementos son el número 1 e imprima su tamaño.\n"
   ]
  },
  {
   "cell_type": "code",
   "execution_count": 27,
   "metadata": {
    "id": "m29HLYhEN6fF"
   },
   "outputs": [
    {
     "name": "stdout",
     "output_type": "stream",
     "text": [
      "[1. 1. 1. 1. 1. 1. 1. 1. 1. 1. 1. 1. 1. 1. 1.]\n",
      "el tamaño del vector es: (15,)\n"
     ]
    }
   ],
   "source": [
    "vector=np.ones(15)\n",
    "print(vector)\n",
    "print(\"el tamaño del vector es:\",vector.shape)"
   ]
  },
  {
   "cell_type": "markdown",
   "metadata": {
    "id": "Mldt5ugAOrB3"
   },
   "source": [
    "\n",
    "2. Genere una matriz de 3 filas por 6 columnas donde todos sus elementos sean el número 0.\n"
   ]
  },
  {
   "cell_type": "code",
   "execution_count": 28,
   "metadata": {
    "id": "5PMMrRh0OsYd"
   },
   "outputs": [
    {
     "data": {
      "text/plain": [
       "array([[0., 0., 0., 0., 0., 0.],\n",
       "       [0., 0., 0., 0., 0., 0.],\n",
       "       [0., 0., 0., 0., 0., 0.]])"
      ]
     },
     "execution_count": 28,
     "metadata": {},
     "output_type": "execute_result"
    }
   ],
   "source": [
    "matrix_zeros=np.zeros((3,6))\n",
    "matrix_zeros"
   ]
  },
  {
   "cell_type": "markdown",
   "metadata": {
    "id": "3gkPOHEQOs1U"
   },
   "source": [
    "\n",
    "3. Genere una matriz de 8x8 donde todos los elementos de la diagonal principal son el número 1 y los demás son el número 0.\n",
    "\n"
   ]
  },
  {
   "cell_type": "code",
   "execution_count": 29,
   "metadata": {
    "id": "OLBczRUgOuGF"
   },
   "outputs": [
    {
     "data": {
      "text/plain": [
       "array([[1., 0., 0., 0., 0., 0., 0., 0.],\n",
       "       [0., 1., 0., 0., 0., 0., 0., 0.],\n",
       "       [0., 0., 1., 0., 0., 0., 0., 0.],\n",
       "       [0., 0., 0., 1., 0., 0., 0., 0.],\n",
       "       [0., 0., 0., 0., 1., 0., 0., 0.],\n",
       "       [0., 0., 0., 0., 0., 1., 0., 0.],\n",
       "       [0., 0., 0., 0., 0., 0., 1., 0.],\n",
       "       [0., 0., 0., 0., 0., 0., 0., 1.]])"
      ]
     },
     "execution_count": 29,
     "metadata": {},
     "output_type": "execute_result"
    }
   ],
   "source": [
    "matrix_identity=np.identity(8)\n",
    "matrix_identity"
   ]
  },
  {
   "cell_type": "markdown",
   "metadata": {
    "id": "CeC8mc2-Outp"
   },
   "source": [
    "4. Escriba una función que reciba como argumento una matriz y retorne el promedio por filas de sus elementos en un arreglo de Numpy.\n",
    "\n",
    "    **Hint:** ¿Que función tiene el parámetro axis dentro de la función np.mean()?"
   ]
  },
  {
   "cell_type": "code",
   "execution_count": 30,
   "metadata": {
    "id": "WUXKnnatPD-d"
   },
   "outputs": [],
   "source": [
    "# Complete la implementación\n",
    "def average_row(matrix):\n",
    "    return np.mean(matrix,axis=1)"
   ]
  },
  {
   "cell_type": "code",
   "execution_count": 31,
   "metadata": {},
   "outputs": [
    {
     "name": "stdout",
     "output_type": "stream",
     "text": [
      "[4. 5. 6.]\n"
     ]
    }
   ],
   "source": [
    "# Ejemplo de prueba Ejercicio 3.4\n",
    "matrix_example = np.array([\n",
    "    [3,5,4],\n",
    "    [8,2,5],\n",
    "    [7,8,3]\n",
    "])\n",
    "print(average_row(matrix_example))"
   ]
  },
  {
   "cell_type": "markdown",
   "metadata": {
    "id": "4EvB-nTkPIi-"
   },
   "source": [
    "5. Escriba una función que reciba como argumento una matriz y retorne el promedio por columnas de sus elementos en un arreglo de Numpy."
   ]
  },
  {
   "cell_type": "code",
   "execution_count": 32,
   "metadata": {
    "id": "KqxPmaSQPIjF"
   },
   "outputs": [],
   "source": [
    "def average_column(matrix:np.ndarray):\n",
    "    return np.mean(matrix,axis=0)"
   ]
  },
  {
   "cell_type": "code",
   "execution_count": 33,
   "metadata": {},
   "outputs": [
    {
     "name": "stdout",
     "output_type": "stream",
     "text": [
      "[4. 5. 6.]\n"
     ]
    }
   ],
   "source": [
    "# Ejemplo de prueba Ejercicio 3.4\n",
    "matrix_example = np.array([\n",
    "    [3,8,7],\n",
    "    [5,2,8],\n",
    "    [4,5,3]\n",
    "])\n",
    "print(average_column(matrix_example))"
   ]
  },
  {
   "cell_type": "markdown",
   "metadata": {
    "id": "Arg1_bRrTJID"
   },
   "source": [
    "**3.4. Propiedades y operaciones matriciales con Numpy**\n",
    "\n",
    "NumPy permite realizar distintas operaciones con matrices, entre las principales se encuentran:\n",
    "\n",
    "```\n",
    "a = np.array([[1,2],[3,4]])\n",
    "b = np.array([[5,6],[7,8]])\n",
    "```\n",
    "- **Suma de matrices**: La suma de matrices elemento a elemento se realiza sumando las dos matrices como dos variables estandar.\n",
    "```\n",
    "c = a + b\n",
    "[[ 6  8]\n",
    " [10 12]]\n",
    "```\n",
    "- **Resta de matrices**: La resta de matrices elemento a elemento se realiza restando las dos matrices como dos variables estandar.\n",
    "```\n",
    "c = a - b\n",
    "[[-4 -4]\n",
    " [-4 -4]]\n",
    "```\n",
    "- **División de matrices**: La división de matrices elemento a elemento se realiza dividiendo las dos matrices como dos variables estandar (esto también incluye la división entera y la operación módulo).\n",
    "```\n",
    "c = a / b\n",
    "[[0.2        0.33333333]\n",
    " [0.42857143 0.5       ]]\n",
    "```\n",
    "\n",
    "- **Multiplicación de matrices (elemento a elemento)**: La multiplicación de matrices elemento a elemento se realiza multiplicando las dos matrices como dos variables estandar. *Este tipo de producto se conoce en matemáticas como Producto Hadamard.*\n",
    "```\n",
    "c = a * b\n",
    "[[ 5 12]\n",
    " [21 32]]\n",
    "```\n",
    "\n",
    "- **Producto matricial**: El producto matricial se puede realizar de dos formas: utilizando la función *np.matmul()* o el símbolo '@' como operador. Bajo esta última implementación Numpy se ajusta automáticamente a los distintos tipos de producto que se dan a lugar entre vectores y matrices: \n",
    "\n",
    "- Si los dos objetos son vectores, se hace un producto punto al usar el operador '@'. Es equivalente usar la función *numpy.dot()*.\n",
    "- Si los dos objetos son matrices, y satisfacen la relación necesaria entre filas y columnas de esta operación, se hace un producto matricial al usar el operador '@'. Es equivalente a usar la función *numpy.matmul()*.\n",
    "\n",
    "En la versión reciente de Numpy, se ha extendido el uso de np.dot() y np.matmul() de modo que ahora es completamente equivalente usar cualquiera de las tres aproximaciones: '@', *numpy.dot()*. ó *numpy.matmul()*, y Numpy realiza el producto que tenga sentido de acuerdo a la naturaleza de los objetos que se operan. No obstante, Numpy recomienda usar el operador '@' sobre las otras funciones.\n",
    "```\n",
    "c = a @ b\n",
    "[[19 22]\n",
    " [43 50]]\n",
    "c = np.dot(a,b)\n",
    "[[19 22]\n",
    " [43 50]]\n",
    "```\n",
    "\n",
    "\n",
    "\n",
    "\n"
   ]
  },
  {
   "cell_type": "markdown",
   "metadata": {
    "id": "pHJLzWnXU2dV"
   },
   "source": [
    "**4.1. Ejercicios**\n",
    "\n",
    "Para las siguientes parejas de matrices determine:\n",
    "\n",
    "- Suma de las matrices elemento a elemento.\n",
    "\n",
    "- Resta de las matrices elemento a elemento.\n",
    "\n",
    "- División de las matrices elemento a elemento.\n",
    "\n",
    "- Multiplicación de las matrices elemento a elemento.\n",
    "\n",
    "- Producto matricial."
   ]
  },
  {
   "cell_type": "markdown",
   "metadata": {
    "id": "DZQQPYOharLX"
   },
   "source": [
    "**Pareja 1:**\n",
    "\n",
    "\\begin{align}\n",
    " \\begin{pmatrix}\n",
    " 10 & 2 & 1 & \\\\\n",
    " 24 & 1 & 2 & \\\\\n",
    " 2 & 3 & 2 & \\\\\n",
    "\\end{pmatrix}  \n",
    " \\begin{pmatrix}\n",
    " 3 & 7 & 8 & \\\\\n",
    " 2 & 1 & 3 & \\\\\n",
    " 7 & 9 & 8 & \\\\\n",
    "\\end{pmatrix}\n",
    "\\end{align}\n"
   ]
  },
  {
   "cell_type": "code",
   "execution_count": 34,
   "metadata": {},
   "outputs": [],
   "source": [
    "#matriz a\n",
    "m_a = np.array([\n",
    "    [10,2,1],\n",
    "    [24,1,2],\n",
    "    [2,3,2]\n",
    "])\n",
    "\n",
    "#matriz b\n",
    "m_b = np.array([\n",
    "    [3,7,8],\n",
    "    [2,1,3],\n",
    "    [7,9,8]\n",
    "])"
   ]
  },
  {
   "cell_type": "code",
   "execution_count": 35,
   "metadata": {
    "id": "-qHMviP3bRaC"
   },
   "outputs": [
    {
     "name": "stdout",
     "output_type": "stream",
     "text": [
      "[[13  9  9]\n",
      " [26  2  5]\n",
      " [ 9 12 10]]\n"
     ]
    }
   ],
   "source": [
    "#Suma de las matrices\n",
    "sum_mat=m_a+m_b\n",
    "print(sum_mat)"
   ]
  },
  {
   "cell_type": "code",
   "execution_count": 36,
   "metadata": {
    "id": "zwNB-mBhbRT8"
   },
   "outputs": [
    {
     "name": "stdout",
     "output_type": "stream",
     "text": [
      "[[ 7 -5 -7]\n",
      " [22  0 -1]\n",
      " [-5 -6 -6]]\n"
     ]
    }
   ],
   "source": [
    "#Resta de las matrices\n",
    "rest_mat=m_a-m_b\n",
    "print(rest_mat)"
   ]
  },
  {
   "cell_type": "code",
   "execution_count": 37,
   "metadata": {
    "id": "Xpzp-p-QbRNA"
   },
   "outputs": [
    {
     "name": "stdout",
     "output_type": "stream",
     "text": [
      "[[ 3.33333333  0.28571429  0.125     ]\n",
      " [12.          1.          0.66666667]\n",
      " [ 0.28571429  0.33333333  0.25      ]]\n"
     ]
    }
   ],
   "source": [
    "#División de las matrice\n",
    "div_mat=m_a/m_b\n",
    "print(div_mat)"
   ]
  },
  {
   "cell_type": "code",
   "execution_count": 38,
   "metadata": {
    "id": "FW9YY_s8bRG8"
   },
   "outputs": [
    {
     "name": "stdout",
     "output_type": "stream",
     "text": [
      "[[30 14  8]\n",
      " [48  1  6]\n",
      " [14 27 16]]\n"
     ]
    }
   ],
   "source": [
    "#Multiplicación de las matrices\n",
    "mult_mat=m_a*m_b\n",
    "print(mult_mat)"
   ]
  },
  {
   "cell_type": "code",
   "execution_count": 39,
   "metadata": {
    "id": "fDfRsUWPbQuo"
   },
   "outputs": [
    {
     "name": "stdout",
     "output_type": "stream",
     "text": [
      "[[ 41  81  94]\n",
      " [ 88 187 211]\n",
      " [ 26  35  41]]\n"
     ]
    }
   ],
   "source": [
    "#Producto matricial\n",
    "prodmat_mat=m_a @ m_b\n",
    "print(prodmat_mat)"
   ]
  },
  {
   "cell_type": "markdown",
   "metadata": {
    "id": "PdJk6xoJbSCx"
   },
   "source": [
    "\n",
    "**Pareja 2:**\n",
    "\n",
    "\\begin{align}\n",
    " \\begin{pmatrix}\n",
    " 9 & 4 & 7 & \\\\\n",
    " 4 & 6 & 2 & \\\\\n",
    " 2 & 8 & 5 & \\\\\n",
    "\\end{pmatrix}\n",
    " \\begin{pmatrix}\n",
    " 1 & 2 & 4 & \\\\\n",
    " 6 & 7 & 5 & \\\\\n",
    " 16 & 14 & 7 & \\\\\n",
    "\\end{pmatrix}\n",
    "\\end{align}"
   ]
  },
  {
   "cell_type": "code",
   "execution_count": 40,
   "metadata": {},
   "outputs": [],
   "source": [
    "\n",
    "# Declarar matriz a\n",
    "matrix_a = np.array([\n",
    "    [9,4,7],\n",
    "    [4,6,2],\n",
    "    [2,8,5]\n",
    "])\n",
    "\n",
    "# Declarar matriz b\n",
    "matrix_b = np.array([\n",
    "    [1,2,4],\n",
    "    [6,7,5],\n",
    "    [16,14,7]\n",
    "])"
   ]
  },
  {
   "cell_type": "code",
   "execution_count": 41,
   "metadata": {
    "id": "1uOvKKUCbi0-"
   },
   "outputs": [
    {
     "name": "stdout",
     "output_type": "stream",
     "text": [
      "[[10  6 11]\n",
      " [10 13  7]\n",
      " [18 22 12]]\n"
     ]
    }
   ],
   "source": [
    "\n",
    "#Suma de las matrices\n",
    "matriz_suma = matrix_a + matrix_b\n",
    "print(matriz_suma)"
   ]
  },
  {
   "cell_type": "code",
   "execution_count": 42,
   "metadata": {
    "id": "xB95hbLXbi0-"
   },
   "outputs": [
    {
     "name": "stdout",
     "output_type": "stream",
     "text": [
      "[[  8   2   3]\n",
      " [ -2  -1  -3]\n",
      " [-14  -6  -2]]\n"
     ]
    }
   ],
   "source": [
    "#Resta de las matrices\n",
    "matriz_resta = matrix_a - matrix_b\n",
    "print(matriz_resta)"
   ]
  },
  {
   "cell_type": "code",
   "execution_count": 43,
   "metadata": {
    "id": "sixhZo1tbi0-"
   },
   "outputs": [
    {
     "name": "stdout",
     "output_type": "stream",
     "text": [
      "[[9.         2.         1.75      ]\n",
      " [0.66666667 0.85714286 0.4       ]\n",
      " [0.125      0.57142857 0.71428571]]\n"
     ]
    }
   ],
   "source": [
    "#División de las matrices\n",
    "matriz_division = matrix_a / matrix_b\n",
    "print(matriz_division)"
   ]
  },
  {
   "cell_type": "code",
   "execution_count": 44,
   "metadata": {
    "id": "Hysf5ubbbi0_"
   },
   "outputs": [
    {
     "name": "stdout",
     "output_type": "stream",
     "text": [
      "[[  9   8  28]\n",
      " [ 24  42  10]\n",
      " [ 32 112  35]]\n"
     ]
    }
   ],
   "source": [
    "#Multiplicación de las matrices\n",
    "matriz_multiplicacion = matrix_a * matrix_b\n",
    "print(matriz_multiplicacion)"
   ]
  },
  {
   "cell_type": "code",
   "execution_count": 45,
   "metadata": {
    "id": "a6KsPpElbi0_"
   },
   "outputs": [
    {
     "name": "stdout",
     "output_type": "stream",
     "text": [
      "[[145 144 105]\n",
      " [ 72  78  60]\n",
      " [130 130  83]]\n"
     ]
    }
   ],
   "source": [
    "#Producto matricial\n",
    "matriz_producto_matricial = matrix_a @ matrix_b\n",
    "print(matriz_producto_matricial)"
   ]
  },
  {
   "cell_type": "markdown",
   "metadata": {
    "id": "xKFU93UrXSqc"
   },
   "source": [
    "**3.5. Operaciones de álgebra lineal**\n",
    "\n",
    "Numpy permite realizar ciertas operaciones de álgebra lineal haciendo uso de su paquete *linalg*, veamos algunas de las principales:\n",
    "\n",
    "- **np.linalg.det:** Calcula el determinante de un arreglo que debe ser MxM.\n",
    "\n",
    "- **np.linalg.inv:** Calcula la inversa de un arreglo que debe ser MxM.\n",
    "\n",
    "- **np.linalg.eig:** Calcula los autovalores y autovectores de un arreglo que debe ser\n",
    "MxM y los retorna en la forma (W,v) donde W es un arreglo que contiene los autovalores y v un arreglo que contiene los autovectores asociados en el orden correspondiente."
   ]
  },
  {
   "cell_type": "markdown",
   "metadata": {
    "id": "GZ-bRC1-ZF6G"
   },
   "source": [
    "**5.1. Ejercicios**\n",
    "\n",
    "1. Para cada una de las siguientes matrices:\n",
    "\n",
    "    a. Determine la dimensión del arreglo.\n",
    "\n",
    "    b. Determine el tamaño (filas y columnas) de la matriz.\n",
    "\n",
    "    c. Calcule el determinante de la matriz.\n",
    "\n",
    "    d. Calcule la inversa de la matriz.      \n",
    "\n",
    "    e. Calcule los valores y vectores propios, e imprímalos en pantalla de la siguiente manera:\n",
    "\n",
    "  Autovalor 1: valor, Autovector 1: $[1,2...]$\n",
    "  Autovalor 2: valor, Autovector 2: $[1,2...]$\n",
    "  ...\n",
    "  Autovalor n: valor, Autovector n: $[1,2...]$\n",
    "\n",
    "Matriz 1\n",
    "\n",
    "\\begin{align}\n",
    " \\begin{pmatrix}\n",
    " 1 & 8 & 2 \\\\\n",
    " 3 & 4 & 5 \\\\\n",
    " 5 & 1 & 10 \\\\\n",
    "\\end{pmatrix}\n",
    " \\end{align}\n",
    "\n",
    "\n",
    "Matriz 2\n",
    "\n",
    "\\begin{align}\n",
    " \\begin{pmatrix}\n",
    " 7 & 6 & 3 \\\\\n",
    " 2 & 9 & 5 \\\\\n",
    " 3 & 7 & 10 \\\\\n",
    "\\end{pmatrix}\n",
    " \\end{align}\n",
    "\n",
    "\n",
    "Matriz 3\n",
    "\n",
    "\\begin{align}\n",
    " \\begin{pmatrix}\n",
    " 10 & 8 & 1 \\\\\n",
    " 6 & 2 & 7 \\\\\n",
    " 8 & 9 & 4 \\\\\n",
    "\\end{pmatrix}\n",
    " \\end{align}"
   ]
  },
  {
   "cell_type": "code",
   "execution_count": 46,
   "metadata": {
    "id": "6bXF9va4adnd"
   },
   "outputs": [
    {
     "name": "stdout",
     "output_type": "stream",
     "text": [
      "Dimension: 2\n",
      "Tamanio: (3, 3)\n",
      "Determinante: -39.00000000000003\n",
      "Inversa: \n",
      "[[-0.8974359   2.         -0.82051282]\n",
      " [ 0.12820513  0.         -0.02564103]\n",
      " [ 0.43589744 -1.          0.51282051]]\n",
      "Valores y vectores propios:  \n",
      "Autovalor 1: 13.69698786870011, Autovector 1: [-0.44048647 -0.90756142 -0.78200532] Autovalor 2: -1.1573061160766196, Autovector 2: [-0.51532458  0.146337   -0.28173716] Autovalor 3: 2.460318247376515, Autovector 3: [-0.73512736  0.39359592  0.5559603 ] \n"
     ]
    }
   ],
   "source": [
    "# Declarar matriz 1\n",
    "matrix_1 = np.array([\n",
    "    [1,8,2],\n",
    "    [3,4,5],\n",
    "    [5,1,10]\n",
    "])\n",
    "\n",
    "# obtener dimension de la matriz\n",
    "dimension = matrix_1.ndim\n",
    "# obtener el tamaño de la matriz\n",
    "tamanio = matrix_1.shape\n",
    "# obtener determinante de la matriz\n",
    "determinante = np.linalg.det(matrix_1)\n",
    "# obtener inversa de la matriz\n",
    "inversa = np.linalg.inv(matrix_1)\n",
    "# obtener autovalores y autovectores de la matriz por aparte\n",
    "autovalores, autovectores = np.linalg.eig(matrix_1)\n",
    "auto_vals = \"\"\n",
    "\n",
    "# contatenar los autovalores y autovectores para imprimir como indica el ejercicio\n",
    "for i in range(0, autovalores.size):\n",
    "    auto_vals += f\"Autovalor {i+1}: {autovalores[i]}, Autovector {i+1}: {autovectores[i]} \"\n",
    "\n",
    "# imprimir resultados\n",
    "print(f\"Dimension: {dimension}\")\n",
    "print(f\"Tamanio: {tamanio}\")\n",
    "print(f\"Determinante: {determinante}\")\n",
    "print(f\"Inversa: \\n{inversa}\")\n",
    "print(f\"Valores y vectores propios:  \\n{auto_vals}\")"
   ]
  },
  {
   "cell_type": "code",
   "execution_count": 47,
   "metadata": {},
   "outputs": [
    {
     "name": "stdout",
     "output_type": "stream",
     "text": [
      "Dimension: 2\n",
      "Tamanio: (3, 3)\n",
      "Determinante: 315.9999999999998\n",
      "Inversa: \n",
      "[[ 0.17405063 -0.12341772  0.00949367]\n",
      " [-0.01582278  0.19303797 -0.09177215]\n",
      " [-0.04113924 -0.09810127  0.16139241]]\n",
      "Valores y vectores propios:  \n",
      "Autovalor 1: 17.480740698407878, Autovector 1: [-0.49796516 -0.93152197  0.84515425] Autovalor 2: 4.519259301592143, Autovector 2: [-0.52456429  0.36026516 -0.50709255] Autovalor 3: 3.9999999999999964, Autovector 3: [-0.69055268  0.04975784  0.16903085] \n"
     ]
    }
   ],
   "source": [
    "# Declarar matriz 2\n",
    "matrix_2 = np.array([\n",
    "    [7,6,3],\n",
    "    [2,9,5],\n",
    "    [3,7,10]\n",
    "])\n",
    "\n",
    "# obtener dimension de la matriz\n",
    "dimension = matrix_2.ndim\n",
    "# obtener el tamaño de la matriz\n",
    "tamanio = matrix_2.shape\n",
    "# obtener determinante de la matriz\n",
    "determinante = np.linalg.det(matrix_2)\n",
    "# obtener inversa de la matriz\n",
    "inversa = np.linalg.inv(matrix_2)\n",
    "# obtener autovalores y autovectores de la matriz por aparte\n",
    "autovalores, autovectores = np.linalg.eig(matrix_2)\n",
    "auto_vals = \"\"\n",
    "\n",
    "# contatenar los autovalores y autovectores para imprimir como indica el ejercicio\n",
    "for i in range(0, autovalores.size):\n",
    "    auto_vals += f\"Autovalor {i+1}: {autovalores[i]}, Autovector {i+1}: {autovectores[i]} \"\n",
    "\n",
    "print(f\"Dimension: {dimension}\")\n",
    "print(f\"Tamanio: {tamanio}\")\n",
    "print(f\"Determinante: {determinante}\")\n",
    "print(f\"Inversa: \\n{inversa}\")\n",
    "print(f\"Valores y vectores propios:  \\n{auto_vals}\")"
   ]
  },
  {
   "cell_type": "code",
   "execution_count": 48,
   "metadata": {},
   "outputs": [
    {
     "name": "stdout",
     "output_type": "stream",
     "text": [
      "Dimension: 2\n",
      "Tamanio: (3, 3)\n",
      "Determinante: -256.00000000000017\n",
      "Inversa: \n",
      "[[ 0.21484375  0.08984375 -0.2109375 ]\n",
      " [-0.125      -0.125       0.25      ]\n",
      " [-0.1484375   0.1015625   0.109375  ]]\n",
      "Valores y vectores propios:  \n",
      "Autovalor 1: 18.04039974712579, Autovector 1: [0.57631756 0.63193117 0.39856344] Autovalor 2: 2.8825146560862045, Autovector 2: [ 0.49825751 -0.48684098 -0.79961383] Autovalor 3: -4.9229144032119905, Autovector 3: [ 0.64776347 -0.60303305  0.44918249] \n"
     ]
    }
   ],
   "source": [
    "# Declarar matriz 3\n",
    "matrix_3 = np.array([\n",
    "    [10,8,1],\n",
    "    [6,2,7],\n",
    "    [8,9,4]\n",
    "])\n",
    "\n",
    "# obtener dimension de la matriz\n",
    "dimension = matrix_3.ndim\n",
    "# obtener el tamaño de la matriz\n",
    "tamanio = matrix_3.shape\n",
    "# obtener determinante de la matriz\n",
    "determinante = np.linalg.det(matrix_3)\n",
    "# obtener inversa de la matriz\n",
    "inversa = np.linalg.inv(matrix_3)\n",
    "# obtener autovalores y autovectores de la matriz por aparte\n",
    "autovalores, autovectores = np.linalg.eig(matrix_3)\n",
    "auto_vals = \"\"\n",
    "\n",
    "# contatenar los autovalores y autovectores para imprimir como indica el ejercicio\n",
    "for i in range(0, autovalores.size):\n",
    "    auto_vals += f\"Autovalor {i+1}: {autovalores[i]}, Autovector {i+1}: {autovectores[i]} \"\n",
    "\n",
    "print(f\"Dimension: {dimension}\")\n",
    "print(f\"Tamanio: {tamanio}\")\n",
    "print(f\"Determinante: {determinante}\")\n",
    "print(f\"Inversa: \\n{inversa}\")\n",
    "print(f\"Valores y vectores propios:  \\n{auto_vals}\")"
   ]
  },
  {
   "cell_type": "markdown",
   "metadata": {
    "id": "43JhsZScdc0E"
   },
   "source": [
    "**3.6. Arange vs linspace**\n",
    "\n",
    "Otros dos métodos conocidos para la creación de arrays unidimensionales (vectores) son *np.arange* y *np.linspace*. Estos métodos son usados especialmente cuando se busca crear arrays que representen, por ejemplo, una secuencia temporal, como por ejemplo un array representando la variable del tiempo que va de 0 a 50 segundos con pasos de 1 segundo. \n",
    "\n",
    "La función *np.arange* utiliza tres parámetros: el número que define el límite inicial del arreglo, el número que define el límite final del arreglo (que no se incluye), y el paso que existe entre cada dato. Mínimo, Numpy exige que se llame la función con límite final del intervalo, en este caso toma por defecto el límite inicial como 0 y el paso entre los datos como 1. El siguiente ejemplo, genera un arreglo unidimensional de 51 números entre 0 y 51.\n",
    "\n",
    "```\n",
    "array = np.arange(0,51,1)\n",
    "```\n",
    "\n",
    "La función *np.linspace* utiliza principalmente tres parámetros:el número que define el límite inicial del arreglo, el número que define el límite final del arreglo (que sí se incluye), y el número de elementos que debe contener el arreglo (es decir, la cantidad de números entre el límite inicial y el límite final). Mínimo, Numpy exige que se llame la función con los límites inicial y final del intervalo, en este caso toma por defecto el número de datos como 50. El siguiente ejemplo, genera un arreglo unidimensional con los números de 0 hasta 50, en pasos de 1.\n",
    "\n",
    "```\n",
    "array = np.linspace(0,50,51)\n",
    "```\n",
    "\n",
    "La principal diferencia entre estos métodos se da en que *np.arange* no incluye el límite final y requiere que se defina el paso entre los datos, mientras *np.linspace* incluye el límite final y requiere que se especifique el número de datos que se quiere al interior del arreglo, Numpy de forma interna calcula el paso entre los datos necesario para que se cumplan las condiciones establecidas.\n",
    "\n",
    "**Nota:** El parámetro que define el paso entre los datos en *np.arange* no debe ser necesariamente entero, puede pasarse un float (un número decimal) de paso.\n",
    "\n",
    "\n"
   ]
  },
  {
   "cell_type": "markdown",
   "metadata": {
    "id": "4lAqGDEHe11N"
   },
   "source": [
    "**6.1. Ejercicios**\n",
    "\n",
    "1. Defina un arreglo que con pasos de 0.25 avance de 10 hasta 20 (incluyendo ambos límites). Imprima su longitud.\n"
   ]
  },
  {
   "cell_type": "code",
   "execution_count": 49,
   "metadata": {
    "id": "8sByJ-OMfn3U"
   },
   "outputs": [
    {
     "name": "stdout",
     "output_type": "stream",
     "text": [
      "Arreglo\n",
      "[10.   10.25 10.5  10.75 11.   11.25 11.5  11.75 12.   12.25 12.5  12.75\n",
      " 13.   13.25 13.5  13.75 14.   14.25 14.5  14.75 15.   15.25 15.5  15.75\n",
      " 16.   16.25 16.5  16.75 17.   17.25 17.5  17.75 18.   18.25 18.5  18.75\n",
      " 19.   19.25 19.5  19.75 20.  ]\n",
      "Longitud arreglo\n",
      "41\n"
     ]
    }
   ],
   "source": [
    "#arreglo con pasos 0.25 de 10 hasta 20 y long\n",
    "array= np.arange(10,20.25,0.25)\n",
    "print(\"Arreglo\")\n",
    "print(array)\n",
    "print(\"Longitud arreglo\")\n",
    "print(array.size)"
   ]
  },
  {
   "cell_type": "markdown",
   "metadata": {
    "id": "Jk1c2VRPfoVy"
   },
   "source": [
    "\n",
    "2. Defina un arreglo que contenga 100 números entre 1 y 5 (incluyendo ambos límites).\n"
   ]
  },
  {
   "cell_type": "code",
   "execution_count": 50,
   "metadata": {
    "id": "dw5XkcWVfplj"
   },
   "outputs": [
    {
     "name": "stdout",
     "output_type": "stream",
     "text": [
      "Arreglo\n",
      "[1.         1.04040404 1.08080808 1.12121212 1.16161616 1.2020202\n",
      " 1.24242424 1.28282828 1.32323232 1.36363636 1.4040404  1.44444444\n",
      " 1.48484848 1.52525253 1.56565657 1.60606061 1.64646465 1.68686869\n",
      " 1.72727273 1.76767677 1.80808081 1.84848485 1.88888889 1.92929293\n",
      " 1.96969697 2.01010101 2.05050505 2.09090909 2.13131313 2.17171717\n",
      " 2.21212121 2.25252525 2.29292929 2.33333333 2.37373737 2.41414141\n",
      " 2.45454545 2.49494949 2.53535354 2.57575758 2.61616162 2.65656566\n",
      " 2.6969697  2.73737374 2.77777778 2.81818182 2.85858586 2.8989899\n",
      " 2.93939394 2.97979798 3.02020202 3.06060606 3.1010101  3.14141414\n",
      " 3.18181818 3.22222222 3.26262626 3.3030303  3.34343434 3.38383838\n",
      " 3.42424242 3.46464646 3.50505051 3.54545455 3.58585859 3.62626263\n",
      " 3.66666667 3.70707071 3.74747475 3.78787879 3.82828283 3.86868687\n",
      " 3.90909091 3.94949495 3.98989899 4.03030303 4.07070707 4.11111111\n",
      " 4.15151515 4.19191919 4.23232323 4.27272727 4.31313131 4.35353535\n",
      " 4.39393939 4.43434343 4.47474747 4.51515152 4.55555556 4.5959596\n",
      " 4.63636364 4.67676768 4.71717172 4.75757576 4.7979798  4.83838384\n",
      " 4.87878788 4.91919192 4.95959596 5.        ]\n"
     ]
    }
   ],
   "source": [
    "#arreglo con pasos 100 num desde 1 a 5\n",
    "array= np.linspace(1,5,100)\n",
    "print(\"Arreglo\")\n",
    "print(array)"
   ]
  },
  {
   "cell_type": "markdown",
   "metadata": {
    "id": "p3u75TKRfp6O"
   },
   "source": [
    "\n",
    "3. Defina dos arreglos con los límites de su preferencia (deben ser los mismos para ambos arreglos) utilizando los dos métodos, de modo que ambos tengan los mismos elementos y el mismo número de datos (imprima la longitud de cada uno)."
   ]
  },
  {
   "cell_type": "code",
   "execution_count": 51,
   "metadata": {
    "id": "gfvZqVvFfqaA"
   },
   "outputs": [
    {
     "name": "stdout",
     "output_type": "stream",
     "text": [
      "Arreglo 1\n",
      "[ 0  2  4  6  8 10]\n",
      "Longitud arreglo 1\n",
      "6\n",
      "Arreglo 2\n",
      "[ 0.  2.  4.  6.  8. 10.]\n",
      "Longitud arreglo 2\n",
      "6\n"
     ]
    }
   ],
   "source": [
    "#arreglo del 1 al 10 \n",
    "array= np.arange(0,11,2)\n",
    "print(\"Arreglo 1\")\n",
    "print(array)\n",
    "print(\"Longitud arreglo 1\")\n",
    "print(array.size)\n",
    "array= np.linspace(0,10,6)\n",
    "print(\"Arreglo 2\")\n",
    "print(array)\n",
    "print(\"Longitud arreglo 2\")\n",
    "print(array.size)"
   ]
  }
 ],
 "metadata": {
  "colab": {
   "provenance": []
  },
  "kernelspec": {
   "display_name": "base",
   "language": "python",
   "name": "python3"
  },
  "language_info": {
   "codemirror_mode": {
    "name": "ipython",
    "version": 3
   },
   "file_extension": ".py",
   "mimetype": "text/x-python",
   "name": "python",
   "nbconvert_exporter": "python",
   "pygments_lexer": "ipython3",
   "version": "3.12.2"
  }
 },
 "nbformat": 4,
 "nbformat_minor": 0
}
