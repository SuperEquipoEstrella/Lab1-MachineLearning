{
 "cells": [
  {
   "cell_type": "markdown",
   "metadata": {
    "id": "yi34l9LYTUxx"
   },
   "source": [
    "# **Laboratorio 1: Una introducción a NumPy**\n",
    "\n",
    "**Facultad de ingeniería**\n",
    "\n",
    "Departamento de Ingeniería Biomédica\n",
    "\n",
    "Universidad de los Andes\n",
    "\n",
    "**IBIO-2340:** Fundamentos de Machine Learning"
   ]
  },
  {
   "cell_type": "markdown",
   "metadata": {
    "id": "q6l8Azb1Tdbo"
   },
   "source": [
    "**Nombres de los integrantes**\n",
    "\n",
    "\n",
    "1.   Nombre integrante 1\n",
    "2.   Nombre integrante 2\n",
    "\n",
    "**Número del grupo**\n",
    "\n",
    "*Escribir el número del grupo*\n"
   ]
  },
  {
   "cell_type": "markdown",
   "metadata": {
    "id": "qleaiXKOui8U"
   },
   "source": [
    "# **1. Funciones en Python**\n",
    "\n",
    "Para cada uno de los siguientes problemas, implemente una función que los resuelva. No puede utilizar ninguna librería externa de Python como NumPy o Scipy con métodos preestablecidos para resolverlos. Ponga a prueba cada función con el ejemplo que se proporciona."
   ]
  },
  {
   "cell_type": "markdown",
   "metadata": {
    "id": "c95ohWaEvJAl"
   },
   "source": [
    "**1.1.** Escriba una función que reciba como argumento una lista con números y retorne la suma de todos los números dentro de la misma."
   ]
  },
  {
   "cell_type": "code",
   "execution_count": 1,
   "metadata": {
    "id": "-gzq2VnEva0g"
   },
   "outputs": [],
   "source": [
    "# Complete la siguiente implementación\n",
    "def sum_array(array):\n",
    "    result = 0\n",
    "    for element in array:\n",
    "        result += element\n",
    "    return result"
   ]
  },
  {
   "cell_type": "code",
   "execution_count": 2,
   "metadata": {},
   "outputs": [
    {
     "data": {
      "text/plain": [
       "15"
      ]
     },
     "execution_count": 2,
     "metadata": {},
     "output_type": "execute_result"
    }
   ],
   "source": [
    "# Ejemplo de prueba Ejercicio 1.1\n",
    "a = [1,2,3,4,5]\n",
    "sum_array(a)"
   ]
  },
  {
   "cell_type": "markdown",
   "metadata": {
    "id": "ZtIyBUkwvclE"
   },
   "source": [
    "**1.2.** Escriba una función que reciba como argumento un numero entero positivo y retorne el factorial del mismo.\n",
    "\n",
    "**Nota:** Recuerde la definición del factorial de un número entero:\n",
    "\n",
    "\\begin{align}\n",
    "        n! = n * (n-1) * (n-2) * (n-3) * ... *(1)\n",
    "\\end{align}\n",
    "\n",
    "Y que, por definición, $0! = 1$."
   ]
  },
  {
   "cell_type": "code",
   "execution_count": null,
   "metadata": {
    "id": "3BUh5cUVvclF"
   },
   "outputs": [],
   "source": [
    "# Complete la siguiente implementación\n",
    "def factorial_custom():\n",
    "    pass"
   ]
  },
  {
   "cell_type": "code",
   "execution_count": null,
   "metadata": {},
   "outputs": [],
   "source": [
    "# Ejemplo de prueba Ejercicio 1.2\n",
    "factorial_custom(8)"
   ]
  },
  {
   "cell_type": "markdown",
   "metadata": {
    "id": "3CHXMEjUyLXp"
   },
   "source": [
    "**1.3.** Escriba una función que reciba como argumento una lista con números y retorne el promedio ponderado de los números dentro de la misma. Asuma que cada elemento tiene como peso su índice dentro de la lista, en este sentido el primer elemento tiene peso 0."
   ]
  },
  {
   "cell_type": "code",
   "execution_count": null,
   "metadata": {
    "id": "o4sf1VP3yLXw"
   },
   "outputs": [],
   "source": [
    "# Complete la siguiente implementación\n",
    "def weight_mean():\n",
    "    pass"
   ]
  },
  {
   "cell_type": "code",
   "execution_count": null,
   "metadata": {},
   "outputs": [],
   "source": [
    "# Ejemplo de prueba Ejercicio 1.3\n",
    "b = [1,2,3,4,60]\n",
    "weight_mean(b)"
   ]
  },
  {
   "cell_type": "markdown",
   "metadata": {
    "id": "Eo7qhSx_UhgX"
   },
   "source": [
    "# **2. ¿Qué es NumPy?**\n",
    "\n",
    "NumPy es una de las librerías más utilizadas en Python, permite operar matemáticamente grandes cantidades de datos almacenados en estructuras conocidas como *ndarrays*. Numpy es una librería inmensa que contiene diversos módulos orientados a campos específicos dentro de todos ellos nos interesan particularmente *np.linalg*  y *np.random*. \n",
    "\n",
    "El módulo *np.linalg* implementa distintas operaciones dentro del campo del álgebra lineal, que abarcan desde la artimética matricial básica, el cálculo de determinantes, inversas, autovalores y autovectores hasta complejas transformaciones para el procesamiento de señales.\n",
    "\n",
    "Por su parte, el módulo *np.random* contiene implementaciones enfocadas en el análisis estadístico de datos. Permite calcular desde los estadísticos de orden hasta la generación de números aleatorios de acuerdo a diferentes distribuciones de probabilidad.\n",
    "\n",
    "Por todo lo anterior, así como por su facilidad de implementación, es una librería de uso muy común en programación científica y un componente fundamental en el desarrollo de proyectos en Machine Learning. A continuación veremos con detalle algunas de sus funciones más importantes que nos serán de utilidad durante el desarrollo del curso."
   ]
  },
  {
   "cell_type": "markdown",
   "metadata": {
    "id": "ELyXfeq31xr0"
   },
   "source": [
    "**Operaciones Básicas con Arreglos**\n",
    "\n",
    "Numpy posee varias funciones que son de utilidad operando arreglos. A continuación se detallan algunas:\n",
    "\n",
    "- **np.sum:** Retorna la suma de todos los números contenidos en un arreglo.\n",
    "\n",
    "- **np.prod:** Retorna la multiplicación de todos los números contenidos en un arreglo.\n",
    "\n",
    "- **np.mean:** Retorna el promedio aritmético de todos los números contenidos en un arreglo.\n",
    "\n",
    "- **np.average:** Retorna el promedio ponderado de todos los números contenidos en un arreglo.\n",
    "\n",
    "- **np.std:** Retorna la desviación estandar de todos los números contenidos en un arreglo.\n",
    "\n",
    "\n",
    "Así mismo Numpy implementa diferentes funciones matemáticas básicas que se aplican sobre arreglos (ver https://numpy.org/doc/stable/reference/routines.math.html). Dentro de los entornos de programación científica se considera buena práctica utilizar estas implementaciones en lugar de las nativas que se tienen en Python."
   ]
  },
  {
   "cell_type": "markdown",
   "metadata": {},
   "source": [
    "En primer lugar importamos Numpy. Al ser una librería externa es necesario instalarla previamente usando el manejador de paquetes de Python **pip**."
   ]
  },
  {
   "cell_type": "code",
   "execution_count": 2,
   "metadata": {},
   "outputs": [
    {
     "name": "stdout",
     "output_type": "stream",
     "text": [
      "Numpy versión 2.3.2 se encuentra instalada en su sistema.\n"
     ]
    }
   ],
   "source": [
    "try:\n",
    "  import numpy as np\n",
    "  print(f\"Numpy versión {np.__version__} se encuentra instalada en su sistema.\")\n",
    "except ImportError:\n",
    "  print(\"Numpy no fue encontrado en su sistema. Verifique su instalación.\")"
   ]
  },
  {
   "cell_type": "markdown",
   "metadata": {},
   "source": [
    "**2.1.** A continuación, repita los puntos 1.1, 1.2 y 1.3 pero utilice las funciones y arreglos de Numpy para sus implementaciones. Recuerde revisar la documentación de la librería como ayuda."
   ]
  },
  {
   "cell_type": "code",
   "execution_count": null,
   "metadata": {
    "id": "DaP9-gqMskfZ"
   },
   "outputs": [],
   "source": [
    "#Repetición punto 1.1\n",
    "def sum_array_numpy():\n",
    "    pass"
   ]
  },
  {
   "cell_type": "code",
   "execution_count": null,
   "metadata": {},
   "outputs": [],
   "source": [
    "# Ejemplo de prueba Ejercicio 2.1\n",
    "a = [1,2,3,4,5]\n",
    "sum_1 = sum_array_numpy(a)\n",
    "print(sum_1)"
   ]
  },
  {
   "cell_type": "code",
   "execution_count": null,
   "metadata": {
    "id": "ZqHQlV-_2ReS"
   },
   "outputs": [],
   "source": [
    "#Repetición punto 1.2\n",
    "def factorial_custom_numpy():\n",
    "    pass"
   ]
  },
  {
   "cell_type": "code",
   "execution_count": null,
   "metadata": {},
   "outputs": [],
   "source": [
    "# Ejemplo de prueba Ejercicio 2.1\n",
    "prod_1 =  factorial_custom_numpy(8)\n",
    "print(prod_1)"
   ]
  },
  {
   "cell_type": "code",
   "execution_count": null,
   "metadata": {
    "id": "T0PqOF972Rk9"
   },
   "outputs": [],
   "source": [
    "#Repetición punto 1.3\n",
    "def weight_mean_numpy():\n",
    "    pass"
   ]
  },
  {
   "cell_type": "code",
   "execution_count": null,
   "metadata": {},
   "outputs": [],
   "source": [
    "# Ejemplo de prueba Ejercicio 2.1\n",
    "b = [1,2,3,4,60]\n",
    "mean_1 = weight_mean_numpy(b)\n",
    "print(mean_1)"
   ]
  },
  {
   "cell_type": "markdown",
   "metadata": {
    "id": "DqW0_XQc2ZoN"
   },
   "source": [
    "# **3. Arrays en Numpy**\n",
    "\n",
    "Los objetos fundamentales de Numpy son los *ndarrays* o simplemente **numpy arrays**, una estructura de datos similar a la lista tradicional de Python pero que ofrece mayor eficiencia en el almacenamiento y acceso a los datos y brinda una mayor versatilidad al realizar operaciones matemáticas. Los arrays son útiles para representar información como vectores y matrices."
   ]
  },
  {
   "cell_type": "markdown",
   "metadata": {},
   "source": [
    "Para iniciar un vector con los números de 1 a 5 se utiliza la instrucción 'np.array()' de la siguiente manera:"
   ]
  },
  {
   "cell_type": "code",
   "execution_count": null,
   "metadata": {
    "colab": {
     "base_uri": "https://localhost:8080/"
    },
    "id": "Pd7VkpdO4BBN",
    "outputId": "c70cb29e-d564-4a78-b91b-97aa5e330f8d"
   },
   "outputs": [],
   "source": [
    "vector = np.array([1,2,3,4,5])\n",
    "print(vector)"
   ]
  },
  {
   "cell_type": "markdown",
   "metadata": {
    "id": "FTtxpWIb4Mwn"
   },
   "source": [
    "De forma similar, una matriz puede ser iniciada como un arreglo de arreglos. Por ejemplo, para iniciar una matriz 2x2 que contenga los números de 1 a 4 se debe realizar lo siguiente:"
   ]
  },
  {
   "cell_type": "code",
   "execution_count": null,
   "metadata": {
    "colab": {
     "base_uri": "https://localhost:8080/"
    },
    "id": "fhJbywwu4zmb",
    "outputId": "46e10bf1-49b0-49ce-e6b7-2c55d2e9e11d"
   },
   "outputs": [],
   "source": [
    "matriz = np.array([[1,2],[3,4]])\n",
    "print(matriz)"
   ]
  },
  {
   "cell_type": "markdown",
   "metadata": {
    "id": "p8Qc17wy62TW"
   },
   "source": [
    "Los ndarrays incluyen diferentes atributos que proporcionan información sobre el arreglo y permiten algunas operaciones básicas. Entre los más utilizados tenemos:\n",
    "\n",
    "- **array.ndim:** Retorna la dimensión de un arreglo, entendida como el número de grados de libertad; 0 en el caso de un escalar, 1 en el caso de un vector, 2 en el caso de una matriz, ...\n",
    "\n",
    "- **array.shape:** Retorna el tamaño de un arreglo, entendido como el número de elementos (si es un vector), filas y columnas (si es una matriz), ...\n",
    "\n",
    "- **array.size:** Retorna el número total de elementos que contiene un arreglo.\n",
    "\n",
    "- **array.T:** Retorna el arreglo transpuesto."
   ]
  },
  {
   "cell_type": "markdown",
   "metadata": {},
   "source": [
    "Algunos ejemplos de estos atributos se ven a continuación:"
   ]
  },
  {
   "cell_type": "code",
   "execution_count": null,
   "metadata": {
    "colab": {
     "base_uri": "https://localhost:8080/"
    },
    "id": "-Jao_7ya61rh",
    "outputId": "07c2c3b8-2522-4104-b255-c2e9b83c02e0"
   },
   "outputs": [],
   "source": [
    "print(\"Dimensión del arreglo:\", matriz.ndim)\n",
    "print(\"Tamaño del arreglo\", matriz.shape)\n",
    "print(\"Numero de elementos en el arreglo:\", matriz.size)\n",
    "print(\"Matriz transpuesta:\\n\", matriz.T)"
   ]
  },
  {
   "cell_type": "markdown",
   "metadata": {
    "id": "Nlx8f5MAApeF"
   },
   "source": [
    "**3.1. Indexación de arreglos de Numpy**\n",
    "\n",
    "\n",
    "La indexación es una operación que permite obtener el elemento de una determinada posición dentro de un arreglo. Se utilizan los paréntesis cuadrados ([]) para indicar la posición de la que se quiere extraer el valor. En NumPy la indexación de los ndarrays es similar a la realizada sobre listas de Python.\n",
    "\n",
    "Cuando se tiene un vector, cualquier posición puede ser obtenida simplemente indicando el nombre del vector y la posición deseada. La posición en el arreglo de cualquier elemento se especifica atraves de su índice, un número entero que va desde 0 hasta el número de elementos del arreglo. Tanto en Numpy como en Python, **el primer elemento tiene como índice a cero.** Por ejemplo, para obtener el tercer elemento del arreglo, pasamos su índice (2):"
   ]
  },
  {
   "cell_type": "code",
   "execution_count": 3,
   "metadata": {
    "colab": {
     "base_uri": "https://localhost:8080/"
    },
    "id": "lwApTmRsBg69",
    "outputId": "e233dc2a-a803-4745-c439-8def85d6b40d"
   },
   "outputs": [
    {
     "name": "stdout",
     "output_type": "stream",
     "text": [
      "3\n"
     ]
    }
   ],
   "source": [
    "vector = np.array([1,2,3,4,5])\n",
    "print(vector[2])"
   ]
  },
  {
   "cell_type": "markdown",
   "metadata": {
    "id": "LSJpGZNhBnWh"
   },
   "source": [
    "Por otra parte, el acceso a los elementos de una matriz se realiza con una doble indexación: [número de fila, número de columna]. **Se debe tener en cuenta que al igual que los arreglos unidimensionales, la indexación inicia en cero !!**. La primera fila de la matriz tiene índice cero, así como la primera columna. Por ejemplo, para obtener el elemento que se encuentra en la primera fila y la segunda columna escribimos:"
   ]
  },
  {
   "cell_type": "code",
   "execution_count": 6,
   "metadata": {
    "colab": {
     "base_uri": "https://localhost:8080/"
    },
    "id": "i9Pnm8fPBnDT",
    "outputId": "8bc4bbec-80e0-47a6-a7c0-daa33f68faea"
   },
   "outputs": [
    {
     "name": "stdout",
     "output_type": "stream",
     "text": [
      "2\n",
      "2\n"
     ]
    }
   ],
   "source": [
    "matriz = np.array([[1,2],[3,4]])\n",
    "print(matriz[0,1])\n",
    "# Otra notación equivalente es:\n",
    "print(matriz[0][1])"
   ]
  },
  {
   "cell_type": "markdown",
   "metadata": {
    "id": "Wzmu4MXVAx7Q"
   },
   "source": [
    "**3.2. Slicing en arreglos de Numpy**\n",
    "\n",
    "Se conoce como *Slicing* a la operación que permite recuperar elementos específicos contenidos en un arreglo y agruparlos bajo un nuevo arreglo. Tal como en la indexación hacemos uso de paréntesis cuadrados ([]) indicando el índice del elemento inicial a recuperar seguido del operador ($:$) para finalizar con el índice del elemento final (el cual no se incluye). Por ejemplo para arreglos unidimensionales:\n",
    "\n",
    "```\n",
    "vector[:]  #Devuelve el vector completo. Incluyendo todos sus elementos.\n",
    "vector[2:5] #Devuelve los elementos desde el segundo índice hasta el cuarto índice (es decir, desde la tercera posición hasta la quinta posición).\n",
    "vector[:5] #Devuelve los elementos desde el primer índice hasta el cuarto índice (es decir, hasta la quinta posición).\n",
    "vector[2:] #Devuelve los elementos a partir del segundo índice hasta el final del arreglo (es decir, desde la tercera posición).\n",
    "```\n",
    "Si se requiere, se puede agregar luego del índice del elemento final nuevamente el operador ($:$) para indicar el paso con el que se deben recorrer los índices. Por ejemplo:\n",
    "\n",
    "```\n",
    "vector[::2] #Devuelve los elementos desde el inicio del arreglo hasta el final, saltando el índice en pasos de 2.\n",
    "vector[2:5:2] #Devuelve los elementos desde el segundo índice hasta el cuarto índice saltando el índice en pasos de 2.\n",
    "```\n",
    "\n",
    "Para arreglos bidimensionales (matrices) mantenemos la sintaxis anterior para indicar las secciones que se quieren recuperar tanto de filas como de columnas. Por ejemplo:\n",
    "\n",
    "```\n",
    "matriz[:,:]  #Devuelve la matriz completa. Incluyendo todos los elementos tanto de filas como de columnas\n",
    "matriz[2:5,:] #Devuelve los elementos desde el tercera fila (índice 2) hasta la quinta fila (índice 4), incluyendo todas las columnas. \n",
    "matriz[:,:5] #Devuelve los elementos para todas las filas desde la primera columna hasta la quinta columna (índice 4).\n",
    "matriz[2:,:] #Devuelve los elementos a partir de la tercera fila (índice 2) incluyendo todas las columnas.\n",
    "matriz[::2,::3] #Devuelve las filas de la primera a la última con pasos de 2 posiciones y de la primera a la última columna con pasos de 3 posiciones.\n",
    "```\n"
   ]
  },
  {
   "cell_type": "markdown",
   "metadata": {
    "id": "nCeG5Bc9Ko1Z"
   },
   "source": [
    "**3.2. Ejercicios**\n",
    "\n",
    "1. Escriba una función que reciba como argumento una matriz de NXN y retorne todos los elementos de la diagonal principal en un array de NumPy."
   ]
  },
  {
   "cell_type": "code",
   "execution_count": null,
   "metadata": {
    "id": "jyxXuB4OD-47"
   },
   "outputs": [],
   "source": [
    "# Complete la implementación\n",
    "def diagonal_elements():\n",
    "    pass"
   ]
  },
  {
   "cell_type": "code",
   "execution_count": null,
   "metadata": {},
   "outputs": [],
   "source": [
    "# Ejemplo de prueba Ejercicio 3.2\n",
    "matrix_example = np.array([\n",
    "    [1,3,4],\n",
    "    [0,2,5],\n",
    "    [7,8,3]\n",
    "])\n",
    "diagonal_elements(matrix_example)"
   ]
  },
  {
   "cell_type": "markdown",
   "metadata": {
    "id": "RkNJa40-LCu3"
   },
   "source": [
    "2. Escriba una función que reciba como argumentos una matriz de NxN y un número de fila y retorne la multiplicación de todos los elementos de dicha fila."
   ]
  },
  {
   "cell_type": "code",
   "execution_count": null,
   "metadata": {
    "id": "WV5u9IbULNSu"
   },
   "outputs": [],
   "source": [
    "# Complete la implementación\n",
    "def row_product():\n",
    "    pass"
   ]
  },
  {
   "cell_type": "code",
   "execution_count": null,
   "metadata": {},
   "outputs": [],
   "source": [
    "# Ejemplo de prueba Ejercicio 3.2\n",
    "matrix_example = np.array([\n",
    "    [1,3,4],\n",
    "    [0,2,5],\n",
    "    [7,8,3]\n",
    "])\n",
    "print(row_product(matrix_example,3))"
   ]
  },
  {
   "cell_type": "markdown",
   "metadata": {
    "id": "JhhPIHRoLO6N"
   },
   "source": [
    "3. Escriba una función que reciba como argumentos una matriz de NxN y un número de columna y retorne la suma de todos los elementos de dicha columna."
   ]
  },
  {
   "cell_type": "code",
   "execution_count": null,
   "metadata": {
    "id": "qbDZpsYjLqwu"
   },
   "outputs": [],
   "source": [
    "# Complete la implementación\n",
    "def column_sum():\n",
    "    pass"
   ]
  },
  {
   "cell_type": "code",
   "execution_count": null,
   "metadata": {},
   "outputs": [],
   "source": [
    "# Ejemplo de prueba Ejercicio 3.2\n",
    "matrix_example = np.array([\n",
    "    [1,2,4],\n",
    "    [7,3,1],\n",
    "    [0,8,4]\n",
    "])\n",
    "print(column_sum(matrix_example,1))\n"
   ]
  },
  {
   "cell_type": "markdown",
   "metadata": {
    "id": "BYDBpcYjL9eY"
   },
   "source": [
    "4. Escriba una función que reciba como argumento una matriz y retorne su transpuesta como un arreglo de Numpy."
   ]
  },
  {
   "cell_type": "code",
   "execution_count": null,
   "metadata": {
    "id": "nRTug2PcLOlW"
   },
   "outputs": [],
   "source": [
    "# Complete la implementación\n",
    "def transpose_matrix():\n",
    "    pass"
   ]
  },
  {
   "cell_type": "code",
   "execution_count": null,
   "metadata": {},
   "outputs": [],
   "source": [
    "# Ejemplo de prueba Ejercicio 3.2\n",
    "matrix_example = np.array([\n",
    "    [1,3,4],\n",
    "    [0,2,5],\n",
    "    [7,8,3],\n",
    "    [2,78,9]\n",
    "])\n",
    "print(transpose_matrix(matrix_example))"
   ]
  },
  {
   "cell_type": "markdown",
   "metadata": {
    "id": "cNwvzcw9MJpu"
   },
   "source": [
    "**3.3. Tipos especiales de matrices en NumPy**\n",
    "\n",
    "Numpy permite crear matrices especiales utilizando como argumento su tamaño (el método *shape*). Algunas matrices pueden ser:\n",
    "\n",
    "- **Matriz donde todos sus elementos son 0:** Esta matriz puede ser creada utilizando la función *np.zeros()* donde como argumento *shape* se debe indicar el tamaño de la matriz.\n",
    "\n",
    "- **Matriz donde todos sus elementos son 1:** Esta matriz puede ser creada utilizando la función *np.ones()* donde como argumento *shape* se debe indicar el tamaño de la matriz.\n",
    "\n",
    "- **Matriz identidad:** Esta matriz puede ser creada utilizando la función *np.identity* que toma por argumento el número de filas ó de columnas, en cualquier caso genera una matriz cuadrada.\n",
    "\n",
    "**Nota:** Hay que tener en cuenta que si se pasa como argumento un número entero positivo (y no la tupla que describe el tamaño de la matriz) a las funciones *np.ones()* y *np.zeros()*, estas generan un vector tomando dicho entero como el número total de elementos. "
   ]
  },
  {
   "cell_type": "markdown",
   "metadata": {
    "id": "ZSRvJPXiN90U"
   },
   "source": [
    "**3.4. Ejercicios**\n",
    "\n",
    "1. Genere un vector de 15 elementos donde todos sus elementos son el número 1 e imprima su tamaño.\n"
   ]
  },
  {
   "cell_type": "code",
   "execution_count": null,
   "metadata": {
    "id": "m29HLYhEN6fF"
   },
   "outputs": [],
   "source": []
  },
  {
   "cell_type": "markdown",
   "metadata": {
    "id": "Mldt5ugAOrB3"
   },
   "source": [
    "\n",
    "2. Genere una matriz de 3 filas por 6 columnas donde todos sus elementos sean el número 0.\n"
   ]
  },
  {
   "cell_type": "code",
   "execution_count": null,
   "metadata": {
    "id": "5PMMrRh0OsYd"
   },
   "outputs": [],
   "source": []
  },
  {
   "cell_type": "markdown",
   "metadata": {
    "id": "3gkPOHEQOs1U"
   },
   "source": [
    "\n",
    "3. Genere una matriz de 8x8 donde todos los elementos de la diagonal principal son el número 1 y los demás son el número 0.\n",
    "\n"
   ]
  },
  {
   "cell_type": "code",
   "execution_count": null,
   "metadata": {
    "id": "OLBczRUgOuGF"
   },
   "outputs": [],
   "source": []
  },
  {
   "cell_type": "markdown",
   "metadata": {
    "id": "CeC8mc2-Outp"
   },
   "source": [
    "4. Escriba una función que reciba como argumento una matriz y retorne el promedio por filas de sus elementos en un arreglo de Numpy.\n",
    "\n",
    "    **Hint:** ¿Que función tiene el parámetro axis dentro de la función np.mean()?"
   ]
  },
  {
   "cell_type": "code",
   "execution_count": null,
   "metadata": {
    "id": "WUXKnnatPD-d"
   },
   "outputs": [],
   "source": [
    "# Complete la implementación\n",
    "def average_row():\n",
    "    pass"
   ]
  },
  {
   "cell_type": "code",
   "execution_count": null,
   "metadata": {},
   "outputs": [],
   "source": [
    "# Ejemplo de prueba Ejercicio 3.4\n",
    "matrix_example = np.array([\n",
    "    [3,5,4],\n",
    "    [8,2,5],\n",
    "    [7,8,3]\n",
    "])\n",
    "print(average_row(matrix_example))"
   ]
  },
  {
   "cell_type": "markdown",
   "metadata": {
    "id": "4EvB-nTkPIi-"
   },
   "source": [
    "5. Escriba una función que reciba como argumento una matriz y retorne el promedio por columnas de sus elementos en un arreglo de Numpy."
   ]
  },
  {
   "cell_type": "code",
   "execution_count": null,
   "metadata": {
    "id": "KqxPmaSQPIjF"
   },
   "outputs": [],
   "source": [
    "def average_column(matrix:np.ndarray):\n",
    "    pass"
   ]
  },
  {
   "cell_type": "code",
   "execution_count": null,
   "metadata": {},
   "outputs": [],
   "source": [
    "# Ejemplo de prueba Ejercicio 3.4\n",
    "matrix_example = np.array([\n",
    "    [3,8,7],\n",
    "    [5,2,8],\n",
    "    [4,5,3]\n",
    "])\n",
    "print(average_column(matrix_example))"
   ]
  },
  {
   "cell_type": "markdown",
   "metadata": {
    "id": "Arg1_bRrTJID"
   },
   "source": [
    "**3.4. Propiedades y operaciones matriciales con Numpy**\n",
    "\n",
    "NumPy permite realizar distintas operaciones con matrices, entre las principales se encuentran:\n",
    "\n",
    "```\n",
    "a = np.array([[1,2],[3,4]])\n",
    "b = np.array([[5,6],[7,8]])\n",
    "```\n",
    "- **Suma de matrices**: La suma de matrices elemento a elemento se realiza sumando las dos matrices como dos variables estandar.\n",
    "```\n",
    "c = a + b\n",
    "[[ 6  8]\n",
    " [10 12]]\n",
    "```\n",
    "- **Resta de matrices**: La resta de matrices elemento a elemento se realiza restando las dos matrices como dos variables estandar.\n",
    "```\n",
    "c = a - b\n",
    "[[-4 -4]\n",
    " [-4 -4]]\n",
    "```\n",
    "- **División de matrices**: La división de matrices elemento a elemento se realiza dividiendo las dos matrices como dos variables estandar (esto también incluye la división entera y la operación módulo).\n",
    "```\n",
    "c = a / b\n",
    "[[0.2        0.33333333]\n",
    " [0.42857143 0.5       ]]\n",
    "```\n",
    "\n",
    "- **Multiplicación de matrices (elemento a elemento)**: La multiplicación de matrices elemento a elemento se realiza multiplicando las dos matrices como dos variables estandar. *Este tipo de producto se conoce en matemáticas como Producto Hadamard.*\n",
    "```\n",
    "c = a * b\n",
    "[[ 5 12]\n",
    " [21 32]]\n",
    "```\n",
    "\n",
    "- **Producto matricial**: El producto matricial se puede realizar de dos formas: utilizando la función *np.matmul()* o el símbolo '@' como operador. Bajo esta última implementación Numpy se ajusta automáticamente a los distintos tipos de producto que se dan a lugar entre vectores y matrices: \n",
    "\n",
    "- Si los dos objetos son vectores, se hace un producto punto al usar el operador '@'. Es equivalente usar la función *numpy.dot()*.\n",
    "- Si los dos objetos son matrices, y satisfacen la relación necesaria entre filas y columnas de esta operación, se hace un producto matricial al usar el operador '@'. Es equivalente a usar la función *numpy.matmul()*.\n",
    "\n",
    "En la versión reciente de Numpy, se ha extendido el uso de np.dot() y np.matmul() de modo que ahora es completamente equivalente usar cualquiera de las tres aproximaciones: '@', *numpy.dot()*. ó *numpy.matmul()*, y Numpy realiza el producto que tenga sentido de acuerdo a la naturaleza de los objetos que se operan. No obstante, Numpy recomienda usar el operador '@' sobre las otras funciones.\n",
    "```\n",
    "c = a @ b\n",
    "[[19 22]\n",
    " [43 50]]\n",
    "c = np.dot(a,b)\n",
    "[[19 22]\n",
    " [43 50]]\n",
    "```\n",
    "\n",
    "\n",
    "\n",
    "\n"
   ]
  },
  {
   "cell_type": "markdown",
   "metadata": {
    "id": "pHJLzWnXU2dV"
   },
   "source": [
    "**4.1. Ejercicios**\n",
    "\n",
    "Para las siguientes parejas de matrices determine:\n",
    "\n",
    "- Suma de las matrices elemento a elemento.\n",
    "\n",
    "- Resta de las matrices elemento a elemento.\n",
    "\n",
    "- División de las matrices elemento a elemento.\n",
    "\n",
    "- Multiplicación de las matrices elemento a elemento.\n",
    "\n",
    "- Producto matricial."
   ]
  },
  {
   "cell_type": "markdown",
   "metadata": {
    "id": "DZQQPYOharLX"
   },
   "source": [
    "**Pareja 1:**\n",
    "\n",
    "\\begin{align}\n",
    " \\begin{pmatrix}\n",
    " 10 & 2 & 1 & \\\\\n",
    " 24 & 1 & 2 & \\\\\n",
    " 2 & 3 & 2 & \\\\\n",
    "\\end{pmatrix}  \n",
    " \\begin{pmatrix}\n",
    " 3 & 7 & 8 & \\\\\n",
    " 2 & 1 & 3 & \\\\\n",
    " 7 & 9 & 8 & \\\\\n",
    "\\end{pmatrix}\n",
    "\\end{align}\n"
   ]
  },
  {
   "cell_type": "code",
   "execution_count": null,
   "metadata": {
    "id": "-qHMviP3bRaC"
   },
   "outputs": [],
   "source": [
    "#Suma de las matrices"
   ]
  },
  {
   "cell_type": "code",
   "execution_count": null,
   "metadata": {
    "id": "zwNB-mBhbRT8"
   },
   "outputs": [],
   "source": [
    "#Resta de las matrices"
   ]
  },
  {
   "cell_type": "code",
   "execution_count": null,
   "metadata": {
    "id": "Xpzp-p-QbRNA"
   },
   "outputs": [],
   "source": [
    "#División de las matrices"
   ]
  },
  {
   "cell_type": "code",
   "execution_count": null,
   "metadata": {
    "id": "FW9YY_s8bRG8"
   },
   "outputs": [],
   "source": [
    "#Multiplicación de las matrices"
   ]
  },
  {
   "cell_type": "code",
   "execution_count": null,
   "metadata": {
    "id": "fDfRsUWPbQuo"
   },
   "outputs": [],
   "source": [
    "#Producto matricial"
   ]
  },
  {
   "cell_type": "markdown",
   "metadata": {
    "id": "PdJk6xoJbSCx"
   },
   "source": [
    "\n",
    "**Pareja 2:**\n",
    "\n",
    "\\begin{align}\n",
    " \\begin{pmatrix}\n",
    " 9 & 4 & 7 & \\\\\n",
    " 4 & 6 & 2 & \\\\\n",
    " 2 & 8 & 5 & \\\\\n",
    "\\end{pmatrix}\n",
    " \\begin{pmatrix}\n",
    " 1 & 2 & 4 & \\\\\n",
    " 6 & 7 & 5 & \\\\\n",
    " 16 & 14 & 7 & \\\\\n",
    "\\end{pmatrix}\n",
    "\\end{align}"
   ]
  },
  {
   "cell_type": "code",
   "execution_count": null,
   "metadata": {
    "id": "1uOvKKUCbi0-"
   },
   "outputs": [],
   "source": [
    "#Suma de las matrices"
   ]
  },
  {
   "cell_type": "code",
   "execution_count": null,
   "metadata": {
    "id": "xB95hbLXbi0-"
   },
   "outputs": [],
   "source": [
    "#Resta de las matrices"
   ]
  },
  {
   "cell_type": "code",
   "execution_count": null,
   "metadata": {
    "id": "sixhZo1tbi0-"
   },
   "outputs": [],
   "source": [
    "#División de las matrices"
   ]
  },
  {
   "cell_type": "code",
   "execution_count": null,
   "metadata": {
    "id": "Hysf5ubbbi0_"
   },
   "outputs": [],
   "source": [
    "#Multiplicación de las matrices"
   ]
  },
  {
   "cell_type": "code",
   "execution_count": null,
   "metadata": {
    "id": "a6KsPpElbi0_"
   },
   "outputs": [],
   "source": [
    "#Producto matricial"
   ]
  },
  {
   "cell_type": "markdown",
   "metadata": {
    "id": "xKFU93UrXSqc"
   },
   "source": [
    "**3.5. Operaciones de álgebra lineal**\n",
    "\n",
    "Numpy permite realizar ciertas operaciones de álgebra lineal haciendo uso de su paquete *linalg*, veamos algunas de las principales:\n",
    "\n",
    "- **np.linalg.det:** Calcula el determinante de un arreglo que debe ser MxM.\n",
    "\n",
    "- **np.linalg.inv:** Calcula la inversa de un arreglo que debe ser MxM.\n",
    "\n",
    "- **np.linalg.eig:** Calcula los autovalores y autovectores de un arreglo que debe ser\n",
    "MxM y los retorna en la forma (W,v) donde W es un arreglo que contiene los autovalores y v un arreglo que contiene los autovectores asociados en el orden correspondiente."
   ]
  },
  {
   "cell_type": "markdown",
   "metadata": {
    "id": "GZ-bRC1-ZF6G"
   },
   "source": [
    "**5.1. Ejercicios**\n",
    "\n",
    "1. Para cada una de las siguientes matrices:\n",
    "\n",
    "    a. Determine la dimensión del arreglo.\n",
    "\n",
    "    b. Determine el tamaño (filas y columnas) de la matriz.\n",
    "\n",
    "    c. Calcule el determinante de la matriz.\n",
    "\n",
    "    d. Calcule la inversa de la matriz.      \n",
    "\n",
    "    e. Calcule los valores y vectores propios, e imprímalos en pantalla de la siguiente manera:\n",
    "\n",
    "  Autovalor 1: valor, Autovector 1: $[1,2...]$\n",
    "  Autovalor 2: valor, Autovector 2: $[1,2...]$\n",
    "  ...\n",
    "  Autovalor n: valor, Autovector n: $[1,2...]$\n",
    "\n",
    "Matriz 1\n",
    "\n",
    "\\begin{align}\n",
    " \\begin{pmatrix}\n",
    " 1 & 8 & 2 \\\\\n",
    " 3 & 4 & 5 \\\\\n",
    " 5 & 1 & 10 \\\\\n",
    "\\end{pmatrix}\n",
    " \\end{align}\n",
    "\n",
    "\n",
    "Matriz 2\n",
    "\n",
    "\\begin{align}\n",
    " \\begin{pmatrix}\n",
    " 7 & 6 & 3 \\\\\n",
    " 2 & 9 & 5 \\\\\n",
    " 3 & 7 & 10 \\\\\n",
    "\\end{pmatrix}\n",
    " \\end{align}\n",
    "\n",
    "\n",
    "Matriz 3\n",
    "\n",
    "\\begin{align}\n",
    " \\begin{pmatrix}\n",
    " 10 & 8 & 1 \\\\\n",
    " 6 & 2 & 7 \\\\\n",
    " 8 & 9 & 4 \\\\\n",
    "\\end{pmatrix}\n",
    " \\end{align}"
   ]
  },
  {
   "cell_type": "code",
   "execution_count": null,
   "metadata": {
    "id": "6bXF9va4adnd"
   },
   "outputs": [],
   "source": []
  },
  {
   "cell_type": "markdown",
   "metadata": {
    "id": "43JhsZScdc0E"
   },
   "source": [
    "**3.6. Arange vs linspace**\n",
    "\n",
    "Otros dos métodos conocidos para la creación de arrays unidimensionales (vectores) son *np.arange* y *np.linspace*. Estos métodos son usados especialmente cuando se busca crear arrays que representen, por ejemplo, una secuencia temporal, como por ejemplo un array representando la variable del tiempo que va de 0 a 50 segundos con pasos de 1 segundo. \n",
    "\n",
    "La función *np.arange* utiliza tres parámetros: el número que define el límite inicial del arreglo, el número que define el límite final del arreglo (que no se incluye), y el paso que existe entre cada dato. Mínimo, Numpy exige que se llame la función con límite final del intervalo, en este caso toma por defecto el límite inicial como 0 y el paso entre los datos como 1. El siguiente ejemplo, genera un arreglo unidimensional de 51 números entre 0 y 51.\n",
    "\n",
    "```\n",
    "array = np.arange(0,51,1)\n",
    "```\n",
    "\n",
    "La función *np.linspace* utiliza principalmente tres parámetros:el número que define el límite inicial del arreglo, el número que define el límite final del arreglo (que sí se incluye), y el número de elementos que debe contener el arreglo (es decir, la cantidad de números entre el límite inicial y el límite final). Mínimo, Numpy exige que se llame la función con los límites inicial y final del intervalo, en este caso toma por defecto el número de datos como 50. El siguiente ejemplo, genera un arreglo unidimensional con los números de 0 hasta 50, en pasos de 1.\n",
    "\n",
    "```\n",
    "array = np.linspace(0,50,51)\n",
    "```\n",
    "\n",
    "La principal diferencia entre estos métodos se da en que *np.arange* no incluye el límite final y requiere que se defina el paso entre los datos, mientras *np.linspace* incluye el límite final y requiere que se especifique el número de datos que se quiere al interior del arreglo, Numpy de forma interna calcula el paso entre los datos necesario para que se cumplan las condiciones establecidas.\n",
    "\n",
    "**Nota:** El parámetro que define el paso entre los datos en *np.arange* no debe ser necesariamente entero, puede pasarse un float (un número decimal) de paso.\n",
    "\n",
    "\n"
   ]
  },
  {
   "cell_type": "markdown",
   "metadata": {
    "id": "4lAqGDEHe11N"
   },
   "source": [
    "**6.1. Ejercicios**\n",
    "\n",
    "1. Defina un arreglo que con pasos de 0.25 avance de 10 hasta 20 (incluyendo ambos límites). Imprima su longitud.\n"
   ]
  },
  {
   "cell_type": "code",
   "execution_count": null,
   "metadata": {
    "id": "8sByJ-OMfn3U"
   },
   "outputs": [],
   "source": []
  },
  {
   "cell_type": "markdown",
   "metadata": {
    "id": "Jk1c2VRPfoVy"
   },
   "source": [
    "\n",
    "2. Defina un arreglo que contenga 100 números entre 1 y 5 (incluyendo ambos límites).\n"
   ]
  },
  {
   "cell_type": "code",
   "execution_count": null,
   "metadata": {
    "id": "dw5XkcWVfplj"
   },
   "outputs": [],
   "source": []
  },
  {
   "cell_type": "markdown",
   "metadata": {
    "id": "p3u75TKRfp6O"
   },
   "source": [
    "\n",
    "3. Defina dos arreglos con los límites de su preferencia (deben ser los mismos para ambos arreglos) utilizando los dos métodos, de modo que ambos tengan los mismos elementos y el mismo número de datos (imprima la longitud de cada uno)."
   ]
  },
  {
   "cell_type": "code",
   "execution_count": null,
   "metadata": {
    "id": "gfvZqVvFfqaA"
   },
   "outputs": [],
   "source": []
  }
 ],
 "metadata": {
  "colab": {
   "provenance": []
  },
  "kernelspec": {
   "display_name": "Python 3",
   "language": "python",
   "name": "python3"
  },
  "language_info": {
   "codemirror_mode": {
    "name": "ipython",
    "version": 3
   },
   "file_extension": ".py",
   "mimetype": "text/x-python",
   "name": "python",
   "nbconvert_exporter": "python",
   "pygments_lexer": "ipython3",
   "version": "3.10.10"
  }
 },
 "nbformat": 4,
 "nbformat_minor": 0
}
